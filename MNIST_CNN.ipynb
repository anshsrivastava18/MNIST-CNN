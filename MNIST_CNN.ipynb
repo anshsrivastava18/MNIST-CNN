{
  "nbformat": 4,
  "nbformat_minor": 0,
  "metadata": {
    "colab": {
      "name": "MNIST-CNN.ipynb",
      "provenance": [],
      "collapsed_sections": [],
      "authorship_tag": "ABX9TyNrvsjToj9Qeuu/7kibb3d8",
      "include_colab_link": true
    },
    "kernelspec": {
      "name": "python3",
      "display_name": "Python 3"
    },
    "language_info": {
      "name": "python"
    },
    "widgets": {
      "application/vnd.jupyter.widget-state+json": {
        "a094402aaa62466291caf0a5c88502ad": {
          "model_module": "@jupyter-widgets/controls",
          "model_name": "HBoxModel",
          "state": {
            "_view_name": "HBoxView",
            "_dom_classes": [],
            "_model_name": "HBoxModel",
            "_view_module": "@jupyter-widgets/controls",
            "_model_module_version": "1.5.0",
            "_view_count": null,
            "_view_module_version": "1.5.0",
            "box_style": "",
            "layout": "IPY_MODEL_580f9b999e2e4e379dc8a748f7f6a57e",
            "_model_module": "@jupyter-widgets/controls",
            "children": [
              "IPY_MODEL_d8131f42d6dc4f8bbbab1a8213ca8f89",
              "IPY_MODEL_a13de8cf948943709fff1c97b5cd6056"
            ]
          }
        },
        "580f9b999e2e4e379dc8a748f7f6a57e": {
          "model_module": "@jupyter-widgets/base",
          "model_name": "LayoutModel",
          "state": {
            "_view_name": "LayoutView",
            "grid_template_rows": null,
            "right": null,
            "justify_content": null,
            "_view_module": "@jupyter-widgets/base",
            "overflow": null,
            "_model_module_version": "1.2.0",
            "_view_count": null,
            "flex_flow": null,
            "width": null,
            "min_width": null,
            "border": null,
            "align_items": null,
            "bottom": null,
            "_model_module": "@jupyter-widgets/base",
            "top": null,
            "grid_column": null,
            "overflow_y": null,
            "overflow_x": null,
            "grid_auto_flow": null,
            "grid_area": null,
            "grid_template_columns": null,
            "flex": null,
            "_model_name": "LayoutModel",
            "justify_items": null,
            "grid_row": null,
            "max_height": null,
            "align_content": null,
            "visibility": null,
            "align_self": null,
            "height": null,
            "min_height": null,
            "padding": null,
            "grid_auto_rows": null,
            "grid_gap": null,
            "max_width": null,
            "order": null,
            "_view_module_version": "1.2.0",
            "grid_template_areas": null,
            "object_position": null,
            "object_fit": null,
            "grid_auto_columns": null,
            "margin": null,
            "display": null,
            "left": null
          }
        },
        "d8131f42d6dc4f8bbbab1a8213ca8f89": {
          "model_module": "@jupyter-widgets/controls",
          "model_name": "FloatProgressModel",
          "state": {
            "_view_name": "ProgressView",
            "style": "IPY_MODEL_6f28ed5d1f8c4a57a427a6b22264d1a7",
            "_dom_classes": [],
            "description": "",
            "_model_name": "FloatProgressModel",
            "bar_style": "success",
            "max": 9912422,
            "_view_module": "@jupyter-widgets/controls",
            "_model_module_version": "1.5.0",
            "value": 9912422,
            "_view_count": null,
            "_view_module_version": "1.5.0",
            "orientation": "horizontal",
            "min": 0,
            "description_tooltip": null,
            "_model_module": "@jupyter-widgets/controls",
            "layout": "IPY_MODEL_c314922c66eb440d909d0c9508869472"
          }
        },
        "a13de8cf948943709fff1c97b5cd6056": {
          "model_module": "@jupyter-widgets/controls",
          "model_name": "HTMLModel",
          "state": {
            "_view_name": "HTMLView",
            "style": "IPY_MODEL_3c64ce2140064b4c8e3562051b38bb0f",
            "_dom_classes": [],
            "description": "",
            "_model_name": "HTMLModel",
            "placeholder": "​",
            "_view_module": "@jupyter-widgets/controls",
            "_model_module_version": "1.5.0",
            "value": " 9913344/? [00:14&lt;00:00, 682692.98it/s]",
            "_view_count": null,
            "_view_module_version": "1.5.0",
            "description_tooltip": null,
            "_model_module": "@jupyter-widgets/controls",
            "layout": "IPY_MODEL_9e811b26a4ba4047be0b05856a294ccc"
          }
        },
        "6f28ed5d1f8c4a57a427a6b22264d1a7": {
          "model_module": "@jupyter-widgets/controls",
          "model_name": "ProgressStyleModel",
          "state": {
            "_view_name": "StyleView",
            "_model_name": "ProgressStyleModel",
            "description_width": "initial",
            "_view_module": "@jupyter-widgets/base",
            "_model_module_version": "1.5.0",
            "_view_count": null,
            "_view_module_version": "1.2.0",
            "bar_color": null,
            "_model_module": "@jupyter-widgets/controls"
          }
        },
        "c314922c66eb440d909d0c9508869472": {
          "model_module": "@jupyter-widgets/base",
          "model_name": "LayoutModel",
          "state": {
            "_view_name": "LayoutView",
            "grid_template_rows": null,
            "right": null,
            "justify_content": null,
            "_view_module": "@jupyter-widgets/base",
            "overflow": null,
            "_model_module_version": "1.2.0",
            "_view_count": null,
            "flex_flow": null,
            "width": null,
            "min_width": null,
            "border": null,
            "align_items": null,
            "bottom": null,
            "_model_module": "@jupyter-widgets/base",
            "top": null,
            "grid_column": null,
            "overflow_y": null,
            "overflow_x": null,
            "grid_auto_flow": null,
            "grid_area": null,
            "grid_template_columns": null,
            "flex": null,
            "_model_name": "LayoutModel",
            "justify_items": null,
            "grid_row": null,
            "max_height": null,
            "align_content": null,
            "visibility": null,
            "align_self": null,
            "height": null,
            "min_height": null,
            "padding": null,
            "grid_auto_rows": null,
            "grid_gap": null,
            "max_width": null,
            "order": null,
            "_view_module_version": "1.2.0",
            "grid_template_areas": null,
            "object_position": null,
            "object_fit": null,
            "grid_auto_columns": null,
            "margin": null,
            "display": null,
            "left": null
          }
        },
        "3c64ce2140064b4c8e3562051b38bb0f": {
          "model_module": "@jupyter-widgets/controls",
          "model_name": "DescriptionStyleModel",
          "state": {
            "_view_name": "StyleView",
            "_model_name": "DescriptionStyleModel",
            "description_width": "",
            "_view_module": "@jupyter-widgets/base",
            "_model_module_version": "1.5.0",
            "_view_count": null,
            "_view_module_version": "1.2.0",
            "_model_module": "@jupyter-widgets/controls"
          }
        },
        "9e811b26a4ba4047be0b05856a294ccc": {
          "model_module": "@jupyter-widgets/base",
          "model_name": "LayoutModel",
          "state": {
            "_view_name": "LayoutView",
            "grid_template_rows": null,
            "right": null,
            "justify_content": null,
            "_view_module": "@jupyter-widgets/base",
            "overflow": null,
            "_model_module_version": "1.2.0",
            "_view_count": null,
            "flex_flow": null,
            "width": null,
            "min_width": null,
            "border": null,
            "align_items": null,
            "bottom": null,
            "_model_module": "@jupyter-widgets/base",
            "top": null,
            "grid_column": null,
            "overflow_y": null,
            "overflow_x": null,
            "grid_auto_flow": null,
            "grid_area": null,
            "grid_template_columns": null,
            "flex": null,
            "_model_name": "LayoutModel",
            "justify_items": null,
            "grid_row": null,
            "max_height": null,
            "align_content": null,
            "visibility": null,
            "align_self": null,
            "height": null,
            "min_height": null,
            "padding": null,
            "grid_auto_rows": null,
            "grid_gap": null,
            "max_width": null,
            "order": null,
            "_view_module_version": "1.2.0",
            "grid_template_areas": null,
            "object_position": null,
            "object_fit": null,
            "grid_auto_columns": null,
            "margin": null,
            "display": null,
            "left": null
          }
        },
        "9c914df20c5f424cb05901488bac7b50": {
          "model_module": "@jupyter-widgets/controls",
          "model_name": "HBoxModel",
          "state": {
            "_view_name": "HBoxView",
            "_dom_classes": [],
            "_model_name": "HBoxModel",
            "_view_module": "@jupyter-widgets/controls",
            "_model_module_version": "1.5.0",
            "_view_count": null,
            "_view_module_version": "1.5.0",
            "box_style": "",
            "layout": "IPY_MODEL_bcdde6c38fb349d79c604246d3c5e708",
            "_model_module": "@jupyter-widgets/controls",
            "children": [
              "IPY_MODEL_c2faa92b9e6f4932a34051c92c9bed09",
              "IPY_MODEL_8f442f24cd76420ca47ad20d61e7ea7d"
            ]
          }
        },
        "bcdde6c38fb349d79c604246d3c5e708": {
          "model_module": "@jupyter-widgets/base",
          "model_name": "LayoutModel",
          "state": {
            "_view_name": "LayoutView",
            "grid_template_rows": null,
            "right": null,
            "justify_content": null,
            "_view_module": "@jupyter-widgets/base",
            "overflow": null,
            "_model_module_version": "1.2.0",
            "_view_count": null,
            "flex_flow": null,
            "width": null,
            "min_width": null,
            "border": null,
            "align_items": null,
            "bottom": null,
            "_model_module": "@jupyter-widgets/base",
            "top": null,
            "grid_column": null,
            "overflow_y": null,
            "overflow_x": null,
            "grid_auto_flow": null,
            "grid_area": null,
            "grid_template_columns": null,
            "flex": null,
            "_model_name": "LayoutModel",
            "justify_items": null,
            "grid_row": null,
            "max_height": null,
            "align_content": null,
            "visibility": null,
            "align_self": null,
            "height": null,
            "min_height": null,
            "padding": null,
            "grid_auto_rows": null,
            "grid_gap": null,
            "max_width": null,
            "order": null,
            "_view_module_version": "1.2.0",
            "grid_template_areas": null,
            "object_position": null,
            "object_fit": null,
            "grid_auto_columns": null,
            "margin": null,
            "display": null,
            "left": null
          }
        },
        "c2faa92b9e6f4932a34051c92c9bed09": {
          "model_module": "@jupyter-widgets/controls",
          "model_name": "FloatProgressModel",
          "state": {
            "_view_name": "ProgressView",
            "style": "IPY_MODEL_7ecf973bf1e54de59b6618b1f52a3207",
            "_dom_classes": [],
            "description": "",
            "_model_name": "FloatProgressModel",
            "bar_style": "success",
            "max": 28881,
            "_view_module": "@jupyter-widgets/controls",
            "_model_module_version": "1.5.0",
            "value": 28881,
            "_view_count": null,
            "_view_module_version": "1.5.0",
            "orientation": "horizontal",
            "min": 0,
            "description_tooltip": null,
            "_model_module": "@jupyter-widgets/controls",
            "layout": "IPY_MODEL_bcd683fd89414dfe8b5833bf031a07a9"
          }
        },
        "8f442f24cd76420ca47ad20d61e7ea7d": {
          "model_module": "@jupyter-widgets/controls",
          "model_name": "HTMLModel",
          "state": {
            "_view_name": "HTMLView",
            "style": "IPY_MODEL_6c0a13ad97f741c9bc498a2b74539f37",
            "_dom_classes": [],
            "description": "",
            "_model_name": "HTMLModel",
            "placeholder": "​",
            "_view_module": "@jupyter-widgets/controls",
            "_model_module_version": "1.5.0",
            "value": " 29696/? [00:01&lt;00:00, 24179.59it/s]",
            "_view_count": null,
            "_view_module_version": "1.5.0",
            "description_tooltip": null,
            "_model_module": "@jupyter-widgets/controls",
            "layout": "IPY_MODEL_56718f9c9e9b41a5b5e4daa45a61533b"
          }
        },
        "7ecf973bf1e54de59b6618b1f52a3207": {
          "model_module": "@jupyter-widgets/controls",
          "model_name": "ProgressStyleModel",
          "state": {
            "_view_name": "StyleView",
            "_model_name": "ProgressStyleModel",
            "description_width": "initial",
            "_view_module": "@jupyter-widgets/base",
            "_model_module_version": "1.5.0",
            "_view_count": null,
            "_view_module_version": "1.2.0",
            "bar_color": null,
            "_model_module": "@jupyter-widgets/controls"
          }
        },
        "bcd683fd89414dfe8b5833bf031a07a9": {
          "model_module": "@jupyter-widgets/base",
          "model_name": "LayoutModel",
          "state": {
            "_view_name": "LayoutView",
            "grid_template_rows": null,
            "right": null,
            "justify_content": null,
            "_view_module": "@jupyter-widgets/base",
            "overflow": null,
            "_model_module_version": "1.2.0",
            "_view_count": null,
            "flex_flow": null,
            "width": null,
            "min_width": null,
            "border": null,
            "align_items": null,
            "bottom": null,
            "_model_module": "@jupyter-widgets/base",
            "top": null,
            "grid_column": null,
            "overflow_y": null,
            "overflow_x": null,
            "grid_auto_flow": null,
            "grid_area": null,
            "grid_template_columns": null,
            "flex": null,
            "_model_name": "LayoutModel",
            "justify_items": null,
            "grid_row": null,
            "max_height": null,
            "align_content": null,
            "visibility": null,
            "align_self": null,
            "height": null,
            "min_height": null,
            "padding": null,
            "grid_auto_rows": null,
            "grid_gap": null,
            "max_width": null,
            "order": null,
            "_view_module_version": "1.2.0",
            "grid_template_areas": null,
            "object_position": null,
            "object_fit": null,
            "grid_auto_columns": null,
            "margin": null,
            "display": null,
            "left": null
          }
        },
        "6c0a13ad97f741c9bc498a2b74539f37": {
          "model_module": "@jupyter-widgets/controls",
          "model_name": "DescriptionStyleModel",
          "state": {
            "_view_name": "StyleView",
            "_model_name": "DescriptionStyleModel",
            "description_width": "",
            "_view_module": "@jupyter-widgets/base",
            "_model_module_version": "1.5.0",
            "_view_count": null,
            "_view_module_version": "1.2.0",
            "_model_module": "@jupyter-widgets/controls"
          }
        },
        "56718f9c9e9b41a5b5e4daa45a61533b": {
          "model_module": "@jupyter-widgets/base",
          "model_name": "LayoutModel",
          "state": {
            "_view_name": "LayoutView",
            "grid_template_rows": null,
            "right": null,
            "justify_content": null,
            "_view_module": "@jupyter-widgets/base",
            "overflow": null,
            "_model_module_version": "1.2.0",
            "_view_count": null,
            "flex_flow": null,
            "width": null,
            "min_width": null,
            "border": null,
            "align_items": null,
            "bottom": null,
            "_model_module": "@jupyter-widgets/base",
            "top": null,
            "grid_column": null,
            "overflow_y": null,
            "overflow_x": null,
            "grid_auto_flow": null,
            "grid_area": null,
            "grid_template_columns": null,
            "flex": null,
            "_model_name": "LayoutModel",
            "justify_items": null,
            "grid_row": null,
            "max_height": null,
            "align_content": null,
            "visibility": null,
            "align_self": null,
            "height": null,
            "min_height": null,
            "padding": null,
            "grid_auto_rows": null,
            "grid_gap": null,
            "max_width": null,
            "order": null,
            "_view_module_version": "1.2.0",
            "grid_template_areas": null,
            "object_position": null,
            "object_fit": null,
            "grid_auto_columns": null,
            "margin": null,
            "display": null,
            "left": null
          }
        },
        "3e34fe02efc345bcb6e8f0ccea9a5a77": {
          "model_module": "@jupyter-widgets/controls",
          "model_name": "HBoxModel",
          "state": {
            "_view_name": "HBoxView",
            "_dom_classes": [],
            "_model_name": "HBoxModel",
            "_view_module": "@jupyter-widgets/controls",
            "_model_module_version": "1.5.0",
            "_view_count": null,
            "_view_module_version": "1.5.0",
            "box_style": "",
            "layout": "IPY_MODEL_7d8d9043d5fb4b7fa674c2c34cc107de",
            "_model_module": "@jupyter-widgets/controls",
            "children": [
              "IPY_MODEL_f936a02880c34366ba7ce07c19e709b9",
              "IPY_MODEL_964a3e907e6f48d1a5990385585eb930"
            ]
          }
        },
        "7d8d9043d5fb4b7fa674c2c34cc107de": {
          "model_module": "@jupyter-widgets/base",
          "model_name": "LayoutModel",
          "state": {
            "_view_name": "LayoutView",
            "grid_template_rows": null,
            "right": null,
            "justify_content": null,
            "_view_module": "@jupyter-widgets/base",
            "overflow": null,
            "_model_module_version": "1.2.0",
            "_view_count": null,
            "flex_flow": null,
            "width": null,
            "min_width": null,
            "border": null,
            "align_items": null,
            "bottom": null,
            "_model_module": "@jupyter-widgets/base",
            "top": null,
            "grid_column": null,
            "overflow_y": null,
            "overflow_x": null,
            "grid_auto_flow": null,
            "grid_area": null,
            "grid_template_columns": null,
            "flex": null,
            "_model_name": "LayoutModel",
            "justify_items": null,
            "grid_row": null,
            "max_height": null,
            "align_content": null,
            "visibility": null,
            "align_self": null,
            "height": null,
            "min_height": null,
            "padding": null,
            "grid_auto_rows": null,
            "grid_gap": null,
            "max_width": null,
            "order": null,
            "_view_module_version": "1.2.0",
            "grid_template_areas": null,
            "object_position": null,
            "object_fit": null,
            "grid_auto_columns": null,
            "margin": null,
            "display": null,
            "left": null
          }
        },
        "f936a02880c34366ba7ce07c19e709b9": {
          "model_module": "@jupyter-widgets/controls",
          "model_name": "FloatProgressModel",
          "state": {
            "_view_name": "ProgressView",
            "style": "IPY_MODEL_e34c4be6f2cb454b8078403890e0e42f",
            "_dom_classes": [],
            "description": "",
            "_model_name": "FloatProgressModel",
            "bar_style": "success",
            "max": 1648877,
            "_view_module": "@jupyter-widgets/controls",
            "_model_module_version": "1.5.0",
            "value": 1648877,
            "_view_count": null,
            "_view_module_version": "1.5.0",
            "orientation": "horizontal",
            "min": 0,
            "description_tooltip": null,
            "_model_module": "@jupyter-widgets/controls",
            "layout": "IPY_MODEL_c513036eac254d1a8439b36f85e3a047"
          }
        },
        "964a3e907e6f48d1a5990385585eb930": {
          "model_module": "@jupyter-widgets/controls",
          "model_name": "HTMLModel",
          "state": {
            "_view_name": "HTMLView",
            "style": "IPY_MODEL_081e2cf67ad5457e8c71571d6a7c277b",
            "_dom_classes": [],
            "description": "",
            "_model_name": "HTMLModel",
            "placeholder": "​",
            "_view_module": "@jupyter-widgets/controls",
            "_model_module_version": "1.5.0",
            "value": " 1649664/? [00:11&lt;00:00, 142325.27it/s]",
            "_view_count": null,
            "_view_module_version": "1.5.0",
            "description_tooltip": null,
            "_model_module": "@jupyter-widgets/controls",
            "layout": "IPY_MODEL_8c0de4115efa42b2bbd2bb8fa24431bf"
          }
        },
        "e34c4be6f2cb454b8078403890e0e42f": {
          "model_module": "@jupyter-widgets/controls",
          "model_name": "ProgressStyleModel",
          "state": {
            "_view_name": "StyleView",
            "_model_name": "ProgressStyleModel",
            "description_width": "initial",
            "_view_module": "@jupyter-widgets/base",
            "_model_module_version": "1.5.0",
            "_view_count": null,
            "_view_module_version": "1.2.0",
            "bar_color": null,
            "_model_module": "@jupyter-widgets/controls"
          }
        },
        "c513036eac254d1a8439b36f85e3a047": {
          "model_module": "@jupyter-widgets/base",
          "model_name": "LayoutModel",
          "state": {
            "_view_name": "LayoutView",
            "grid_template_rows": null,
            "right": null,
            "justify_content": null,
            "_view_module": "@jupyter-widgets/base",
            "overflow": null,
            "_model_module_version": "1.2.0",
            "_view_count": null,
            "flex_flow": null,
            "width": null,
            "min_width": null,
            "border": null,
            "align_items": null,
            "bottom": null,
            "_model_module": "@jupyter-widgets/base",
            "top": null,
            "grid_column": null,
            "overflow_y": null,
            "overflow_x": null,
            "grid_auto_flow": null,
            "grid_area": null,
            "grid_template_columns": null,
            "flex": null,
            "_model_name": "LayoutModel",
            "justify_items": null,
            "grid_row": null,
            "max_height": null,
            "align_content": null,
            "visibility": null,
            "align_self": null,
            "height": null,
            "min_height": null,
            "padding": null,
            "grid_auto_rows": null,
            "grid_gap": null,
            "max_width": null,
            "order": null,
            "_view_module_version": "1.2.0",
            "grid_template_areas": null,
            "object_position": null,
            "object_fit": null,
            "grid_auto_columns": null,
            "margin": null,
            "display": null,
            "left": null
          }
        },
        "081e2cf67ad5457e8c71571d6a7c277b": {
          "model_module": "@jupyter-widgets/controls",
          "model_name": "DescriptionStyleModel",
          "state": {
            "_view_name": "StyleView",
            "_model_name": "DescriptionStyleModel",
            "description_width": "",
            "_view_module": "@jupyter-widgets/base",
            "_model_module_version": "1.5.0",
            "_view_count": null,
            "_view_module_version": "1.2.0",
            "_model_module": "@jupyter-widgets/controls"
          }
        },
        "8c0de4115efa42b2bbd2bb8fa24431bf": {
          "model_module": "@jupyter-widgets/base",
          "model_name": "LayoutModel",
          "state": {
            "_view_name": "LayoutView",
            "grid_template_rows": null,
            "right": null,
            "justify_content": null,
            "_view_module": "@jupyter-widgets/base",
            "overflow": null,
            "_model_module_version": "1.2.0",
            "_view_count": null,
            "flex_flow": null,
            "width": null,
            "min_width": null,
            "border": null,
            "align_items": null,
            "bottom": null,
            "_model_module": "@jupyter-widgets/base",
            "top": null,
            "grid_column": null,
            "overflow_y": null,
            "overflow_x": null,
            "grid_auto_flow": null,
            "grid_area": null,
            "grid_template_columns": null,
            "flex": null,
            "_model_name": "LayoutModel",
            "justify_items": null,
            "grid_row": null,
            "max_height": null,
            "align_content": null,
            "visibility": null,
            "align_self": null,
            "height": null,
            "min_height": null,
            "padding": null,
            "grid_auto_rows": null,
            "grid_gap": null,
            "max_width": null,
            "order": null,
            "_view_module_version": "1.2.0",
            "grid_template_areas": null,
            "object_position": null,
            "object_fit": null,
            "grid_auto_columns": null,
            "margin": null,
            "display": null,
            "left": null
          }
        },
        "41ab8a93ab5244cea63335243c75ee0c": {
          "model_module": "@jupyter-widgets/controls",
          "model_name": "HBoxModel",
          "state": {
            "_view_name": "HBoxView",
            "_dom_classes": [],
            "_model_name": "HBoxModel",
            "_view_module": "@jupyter-widgets/controls",
            "_model_module_version": "1.5.0",
            "_view_count": null,
            "_view_module_version": "1.5.0",
            "box_style": "",
            "layout": "IPY_MODEL_2b74fbe51a0647bc85b3165663cb5cdb",
            "_model_module": "@jupyter-widgets/controls",
            "children": [
              "IPY_MODEL_003c5e27d8404ed8b3cee81f6bb67726",
              "IPY_MODEL_dc3212aca3674260a5dbbd9bf2b204c0"
            ]
          }
        },
        "2b74fbe51a0647bc85b3165663cb5cdb": {
          "model_module": "@jupyter-widgets/base",
          "model_name": "LayoutModel",
          "state": {
            "_view_name": "LayoutView",
            "grid_template_rows": null,
            "right": null,
            "justify_content": null,
            "_view_module": "@jupyter-widgets/base",
            "overflow": null,
            "_model_module_version": "1.2.0",
            "_view_count": null,
            "flex_flow": null,
            "width": null,
            "min_width": null,
            "border": null,
            "align_items": null,
            "bottom": null,
            "_model_module": "@jupyter-widgets/base",
            "top": null,
            "grid_column": null,
            "overflow_y": null,
            "overflow_x": null,
            "grid_auto_flow": null,
            "grid_area": null,
            "grid_template_columns": null,
            "flex": null,
            "_model_name": "LayoutModel",
            "justify_items": null,
            "grid_row": null,
            "max_height": null,
            "align_content": null,
            "visibility": null,
            "align_self": null,
            "height": null,
            "min_height": null,
            "padding": null,
            "grid_auto_rows": null,
            "grid_gap": null,
            "max_width": null,
            "order": null,
            "_view_module_version": "1.2.0",
            "grid_template_areas": null,
            "object_position": null,
            "object_fit": null,
            "grid_auto_columns": null,
            "margin": null,
            "display": null,
            "left": null
          }
        },
        "003c5e27d8404ed8b3cee81f6bb67726": {
          "model_module": "@jupyter-widgets/controls",
          "model_name": "FloatProgressModel",
          "state": {
            "_view_name": "ProgressView",
            "style": "IPY_MODEL_879306ea8e01451eb4c18e5aa92ffd17",
            "_dom_classes": [],
            "description": "",
            "_model_name": "FloatProgressModel",
            "bar_style": "success",
            "max": 4542,
            "_view_module": "@jupyter-widgets/controls",
            "_model_module_version": "1.5.0",
            "value": 4542,
            "_view_count": null,
            "_view_module_version": "1.5.0",
            "orientation": "horizontal",
            "min": 0,
            "description_tooltip": null,
            "_model_module": "@jupyter-widgets/controls",
            "layout": "IPY_MODEL_1b1c93f1c9e743a1aac845478da69cce"
          }
        },
        "dc3212aca3674260a5dbbd9bf2b204c0": {
          "model_module": "@jupyter-widgets/controls",
          "model_name": "HTMLModel",
          "state": {
            "_view_name": "HTMLView",
            "style": "IPY_MODEL_00b2d1a487284ca9bc89c560769f55ca",
            "_dom_classes": [],
            "description": "",
            "_model_name": "HTMLModel",
            "placeholder": "​",
            "_view_module": "@jupyter-widgets/controls",
            "_model_module_version": "1.5.0",
            "value": " 5120/? [00:09&lt;00:00, 518.41it/s]",
            "_view_count": null,
            "_view_module_version": "1.5.0",
            "description_tooltip": null,
            "_model_module": "@jupyter-widgets/controls",
            "layout": "IPY_MODEL_684cc83313d3465cb0b80f42a6aeb966"
          }
        },
        "879306ea8e01451eb4c18e5aa92ffd17": {
          "model_module": "@jupyter-widgets/controls",
          "model_name": "ProgressStyleModel",
          "state": {
            "_view_name": "StyleView",
            "_model_name": "ProgressStyleModel",
            "description_width": "initial",
            "_view_module": "@jupyter-widgets/base",
            "_model_module_version": "1.5.0",
            "_view_count": null,
            "_view_module_version": "1.2.0",
            "bar_color": null,
            "_model_module": "@jupyter-widgets/controls"
          }
        },
        "1b1c93f1c9e743a1aac845478da69cce": {
          "model_module": "@jupyter-widgets/base",
          "model_name": "LayoutModel",
          "state": {
            "_view_name": "LayoutView",
            "grid_template_rows": null,
            "right": null,
            "justify_content": null,
            "_view_module": "@jupyter-widgets/base",
            "overflow": null,
            "_model_module_version": "1.2.0",
            "_view_count": null,
            "flex_flow": null,
            "width": null,
            "min_width": null,
            "border": null,
            "align_items": null,
            "bottom": null,
            "_model_module": "@jupyter-widgets/base",
            "top": null,
            "grid_column": null,
            "overflow_y": null,
            "overflow_x": null,
            "grid_auto_flow": null,
            "grid_area": null,
            "grid_template_columns": null,
            "flex": null,
            "_model_name": "LayoutModel",
            "justify_items": null,
            "grid_row": null,
            "max_height": null,
            "align_content": null,
            "visibility": null,
            "align_self": null,
            "height": null,
            "min_height": null,
            "padding": null,
            "grid_auto_rows": null,
            "grid_gap": null,
            "max_width": null,
            "order": null,
            "_view_module_version": "1.2.0",
            "grid_template_areas": null,
            "object_position": null,
            "object_fit": null,
            "grid_auto_columns": null,
            "margin": null,
            "display": null,
            "left": null
          }
        },
        "00b2d1a487284ca9bc89c560769f55ca": {
          "model_module": "@jupyter-widgets/controls",
          "model_name": "DescriptionStyleModel",
          "state": {
            "_view_name": "StyleView",
            "_model_name": "DescriptionStyleModel",
            "description_width": "",
            "_view_module": "@jupyter-widgets/base",
            "_model_module_version": "1.5.0",
            "_view_count": null,
            "_view_module_version": "1.2.0",
            "_model_module": "@jupyter-widgets/controls"
          }
        },
        "684cc83313d3465cb0b80f42a6aeb966": {
          "model_module": "@jupyter-widgets/base",
          "model_name": "LayoutModel",
          "state": {
            "_view_name": "LayoutView",
            "grid_template_rows": null,
            "right": null,
            "justify_content": null,
            "_view_module": "@jupyter-widgets/base",
            "overflow": null,
            "_model_module_version": "1.2.0",
            "_view_count": null,
            "flex_flow": null,
            "width": null,
            "min_width": null,
            "border": null,
            "align_items": null,
            "bottom": null,
            "_model_module": "@jupyter-widgets/base",
            "top": null,
            "grid_column": null,
            "overflow_y": null,
            "overflow_x": null,
            "grid_auto_flow": null,
            "grid_area": null,
            "grid_template_columns": null,
            "flex": null,
            "_model_name": "LayoutModel",
            "justify_items": null,
            "grid_row": null,
            "max_height": null,
            "align_content": null,
            "visibility": null,
            "align_self": null,
            "height": null,
            "min_height": null,
            "padding": null,
            "grid_auto_rows": null,
            "grid_gap": null,
            "max_width": null,
            "order": null,
            "_view_module_version": "1.2.0",
            "grid_template_areas": null,
            "object_position": null,
            "object_fit": null,
            "grid_auto_columns": null,
            "margin": null,
            "display": null,
            "left": null
          }
        }
      }
    },
    "accelerator": "GPU"
  },
  "cells": [
    {
      "cell_type": "markdown",
      "metadata": {
        "id": "view-in-github",
        "colab_type": "text"
      },
      "source": [
        "<a href=\"https://colab.research.google.com/github/roguesoul18/MNIST-CNN/blob/main/MNIST_CNN.ipynb\" target=\"_parent\"><img src=\"https://colab.research.google.com/assets/colab-badge.svg\" alt=\"Open In Colab\"/></a>"
      ]
    },
    {
      "cell_type": "markdown",
      "metadata": {
        "id": "-ovY_mnq5N_I"
      },
      "source": [
        "# **MNIST-Classification**\n",
        "\n",
        "This is Convolutional Neural Network(CNN) modeled to train on the MNIST dataset. Firstly, we will import all the necessary libraries required for this project. This model has been written using the PyTorch framework.\n",
        "\n",
        "**Note:- A lot of transformations and computations in this code has been written by keeping in mind that they will be carried out on a GPU. Further explanation on this is provided in sections below.\n",
        "Kindly choose a GPU runtime before proceeding!.**"
      ]
    },
    {
      "cell_type": "code",
      "metadata": {
        "id": "wPYsKL4h8NlF"
      },
      "source": [
        "# Imports\n",
        "import torch\n",
        "import torchvision\n",
        "from torchvision.datasets import MNIST\n",
        "import torchvision.transforms as transforms\n",
        "from torch.utils.data.dataloader import DataLoader\n",
        "from torch.utils.data import random_split\n",
        "from torchvision.utils import make_grid\n",
        "import torch.nn as nn\n",
        "import torch.nn.functional as F\n",
        "import torch.optim as optim\n",
        "import matplotlib.pyplot as plt\n",
        "%matplotlib inline"
      ],
      "execution_count": null,
      "outputs": []
    },
    {
      "cell_type": "markdown",
      "metadata": {
        "id": "jzH2plCT5_C9"
      },
      "source": [
        "In this section, we will download the MNIST dataset. The `MNIST` function from the `torchvision.datatset` library is used for downloading this dataset.\n",
        "\n",
        "# **What is `MNIST`?**\n",
        "The MNIST database (Modified National Institute of Standards and Technology database) is a large database of handwritten digits that is commonly used for training various image processing systems. The database is also widely used for training and testing in the field of machine learning.\n",
        "\n",
        "# **What does it consist of?**\n",
        "The MNIST database contains 60,000 training images and 10,000 testing images. Half of the training set and half of the test set were taken from NIST's training dataset, while the other half of the training set and the other half of the test set were taken from NIST's testing dataset.\n",
        "\n",
        "(from-[wiki/MNIST_database](https://en.wikipedia.org/wiki/MNIST_database))\n"
      ]
    },
    {
      "cell_type": "code",
      "metadata": {
        "id": "p3Z-BLFp8RB9",
        "colab": {
          "base_uri": "https://localhost:8080/",
          "height": 709,
          "referenced_widgets": [
            "a094402aaa62466291caf0a5c88502ad",
            "580f9b999e2e4e379dc8a748f7f6a57e",
            "d8131f42d6dc4f8bbbab1a8213ca8f89",
            "a13de8cf948943709fff1c97b5cd6056",
            "6f28ed5d1f8c4a57a427a6b22264d1a7",
            "c314922c66eb440d909d0c9508869472",
            "3c64ce2140064b4c8e3562051b38bb0f",
            "9e811b26a4ba4047be0b05856a294ccc",
            "9c914df20c5f424cb05901488bac7b50",
            "bcdde6c38fb349d79c604246d3c5e708",
            "c2faa92b9e6f4932a34051c92c9bed09",
            "8f442f24cd76420ca47ad20d61e7ea7d",
            "7ecf973bf1e54de59b6618b1f52a3207",
            "bcd683fd89414dfe8b5833bf031a07a9",
            "6c0a13ad97f741c9bc498a2b74539f37",
            "56718f9c9e9b41a5b5e4daa45a61533b",
            "3e34fe02efc345bcb6e8f0ccea9a5a77",
            "7d8d9043d5fb4b7fa674c2c34cc107de",
            "f936a02880c34366ba7ce07c19e709b9",
            "964a3e907e6f48d1a5990385585eb930",
            "e34c4be6f2cb454b8078403890e0e42f",
            "c513036eac254d1a8439b36f85e3a047",
            "081e2cf67ad5457e8c71571d6a7c277b",
            "8c0de4115efa42b2bbd2bb8fa24431bf",
            "41ab8a93ab5244cea63335243c75ee0c",
            "2b74fbe51a0647bc85b3165663cb5cdb",
            "003c5e27d8404ed8b3cee81f6bb67726",
            "dc3212aca3674260a5dbbd9bf2b204c0",
            "879306ea8e01451eb4c18e5aa92ffd17",
            "1b1c93f1c9e743a1aac845478da69cce",
            "00b2d1a487284ca9bc89c560769f55ca",
            "684cc83313d3465cb0b80f42a6aeb966"
          ]
        },
        "outputId": "b2b452f0-7e6e-447a-f516-40380a94c0cd"
      },
      "source": [
        "dataset = MNIST(root='data/', download=True)\n",
        "test_dataset = MNIST(root='data/', train=False)"
      ],
      "execution_count": null,
      "outputs": [
        {
          "output_type": "stream",
          "text": [
            "Downloading http://yann.lecun.com/exdb/mnist/train-images-idx3-ubyte.gz\n",
            "Downloading http://yann.lecun.com/exdb/mnist/train-images-idx3-ubyte.gz to data/MNIST/raw/train-images-idx3-ubyte.gz\n",
            "Failed to download (trying next):\n",
            "HTTP Error 503: Service Unavailable\n",
            "\n",
            "Downloading https://ossci-datasets.s3.amazonaws.com/mnist/train-images-idx3-ubyte.gz\n",
            "Downloading https://ossci-datasets.s3.amazonaws.com/mnist/train-images-idx3-ubyte.gz to data/MNIST/raw/train-images-idx3-ubyte.gz\n"
          ],
          "name": "stdout"
        },
        {
          "output_type": "display_data",
          "data": {
            "application/vnd.jupyter.widget-view+json": {
              "model_id": "a094402aaa62466291caf0a5c88502ad",
              "version_minor": 0,
              "version_major": 2
            },
            "text/plain": [
              "HBox(children=(FloatProgress(value=0.0, max=9912422.0), HTML(value='')))"
            ]
          },
          "metadata": {
            "tags": []
          }
        },
        {
          "output_type": "stream",
          "text": [
            "\n",
            "Extracting data/MNIST/raw/train-images-idx3-ubyte.gz to data/MNIST/raw\n",
            "\n",
            "Downloading http://yann.lecun.com/exdb/mnist/train-labels-idx1-ubyte.gz\n",
            "Downloading http://yann.lecun.com/exdb/mnist/train-labels-idx1-ubyte.gz to data/MNIST/raw/train-labels-idx1-ubyte.gz\n"
          ],
          "name": "stdout"
        },
        {
          "output_type": "display_data",
          "data": {
            "application/vnd.jupyter.widget-view+json": {
              "model_id": "9c914df20c5f424cb05901488bac7b50",
              "version_minor": 0,
              "version_major": 2
            },
            "text/plain": [
              "HBox(children=(FloatProgress(value=0.0, max=28881.0), HTML(value='')))"
            ]
          },
          "metadata": {
            "tags": []
          }
        },
        {
          "output_type": "stream",
          "text": [
            "\n",
            "Extracting data/MNIST/raw/train-labels-idx1-ubyte.gz to data/MNIST/raw\n",
            "\n",
            "Downloading http://yann.lecun.com/exdb/mnist/t10k-images-idx3-ubyte.gz\n",
            "Downloading http://yann.lecun.com/exdb/mnist/t10k-images-idx3-ubyte.gz to data/MNIST/raw/t10k-images-idx3-ubyte.gz\n",
            "Failed to download (trying next):\n",
            "HTTP Error 503: Service Unavailable\n",
            "\n",
            "Downloading https://ossci-datasets.s3.amazonaws.com/mnist/t10k-images-idx3-ubyte.gz\n",
            "Downloading https://ossci-datasets.s3.amazonaws.com/mnist/t10k-images-idx3-ubyte.gz to data/MNIST/raw/t10k-images-idx3-ubyte.gz\n"
          ],
          "name": "stdout"
        },
        {
          "output_type": "display_data",
          "data": {
            "application/vnd.jupyter.widget-view+json": {
              "model_id": "3e34fe02efc345bcb6e8f0ccea9a5a77",
              "version_minor": 0,
              "version_major": 2
            },
            "text/plain": [
              "HBox(children=(FloatProgress(value=0.0, max=1648877.0), HTML(value='')))"
            ]
          },
          "metadata": {
            "tags": []
          }
        },
        {
          "output_type": "stream",
          "text": [
            "\n",
            "Extracting data/MNIST/raw/t10k-images-idx3-ubyte.gz to data/MNIST/raw\n",
            "\n",
            "Downloading http://yann.lecun.com/exdb/mnist/t10k-labels-idx1-ubyte.gz\n",
            "Downloading http://yann.lecun.com/exdb/mnist/t10k-labels-idx1-ubyte.gz to data/MNIST/raw/t10k-labels-idx1-ubyte.gz\n"
          ],
          "name": "stdout"
        },
        {
          "output_type": "display_data",
          "data": {
            "application/vnd.jupyter.widget-view+json": {
              "model_id": "41ab8a93ab5244cea63335243c75ee0c",
              "version_minor": 0,
              "version_major": 2
            },
            "text/plain": [
              "HBox(children=(FloatProgress(value=0.0, max=4542.0), HTML(value='')))"
            ]
          },
          "metadata": {
            "tags": []
          }
        },
        {
          "output_type": "stream",
          "text": [
            "\n",
            "Extracting data/MNIST/raw/t10k-labels-idx1-ubyte.gz to data/MNIST/raw\n",
            "\n"
          ],
          "name": "stdout"
        },
        {
          "output_type": "stream",
          "text": [
            "/usr/local/lib/python3.7/dist-packages/torchvision/datasets/mnist.py:498: UserWarning: The given NumPy array is not writeable, and PyTorch does not support non-writeable tensors. This means you can write to the underlying (supposedly non-writeable) NumPy array using the tensor. You may want to copy the array to protect its data or make it writeable before converting it to a tensor. This type of warning will be suppressed for the rest of this program. (Triggered internally at  /pytorch/torch/csrc/utils/tensor_numpy.cpp:180.)\n",
            "  return torch.from_numpy(parsed.astype(m[2], copy=False)).view(*s)\n"
          ],
          "name": "stderr"
        }
      ]
    },
    {
      "cell_type": "markdown",
      "metadata": {
        "id": "GHd2TLp27bYs"
      },
      "source": [
        "Then we will load the dataset into `dataset` variable and we will use `transforms.ToTensor()` to convert each pixel of the image to a pytorch compatible tensor. Every pixel has a colour value in the range of 0 to 255. Dividing it by 255 gives a number between 0 and 1 which helps in creating an array of tensors for further computations. "
      ]
    },
    {
      "cell_type": "code",
      "metadata": {
        "id": "rTLyLfLw8RQ7"
      },
      "source": [
        "# MNIST dataset (images and labels)\n",
        "dataset = MNIST(root='data/', \n",
        "                train=True,\n",
        "                transform=transforms.ToTensor())\n",
        "img_tensor, label = dataset[0]"
      ],
      "execution_count": null,
      "outputs": []
    },
    {
      "cell_type": "markdown",
      "metadata": {
        "id": "RsDjdlri8k3J"
      },
      "source": [
        "We will now print the 0th element of the dataset along with its label. As expected, we obtain an array of tensors and an integer label."
      ]
    },
    {
      "cell_type": "code",
      "metadata": {
        "id": "CkOlXYYB99Na",
        "colab": {
          "base_uri": "https://localhost:8080/"
        },
        "outputId": "fcb0f5b0-22f1-41de-a06e-753b8b90a5b7"
      },
      "source": [
        "img, label = dataset[0]\n",
        "print(img.shape, label)\n",
        "img.cuda()"
      ],
      "execution_count": null,
      "outputs": [
        {
          "output_type": "stream",
          "text": [
            "torch.Size([1, 28, 28]) 5\n"
          ],
          "name": "stdout"
        },
        {
          "output_type": "execute_result",
          "data": {
            "text/plain": [
              "tensor([[[0.0000, 0.0000, 0.0000, 0.0000, 0.0000, 0.0000, 0.0000, 0.0000,\n",
              "          0.0000, 0.0000, 0.0000, 0.0000, 0.0000, 0.0000, 0.0000, 0.0000,\n",
              "          0.0000, 0.0000, 0.0000, 0.0000, 0.0000, 0.0000, 0.0000, 0.0000,\n",
              "          0.0000, 0.0000, 0.0000, 0.0000],\n",
              "         [0.0000, 0.0000, 0.0000, 0.0000, 0.0000, 0.0000, 0.0000, 0.0000,\n",
              "          0.0000, 0.0000, 0.0000, 0.0000, 0.0000, 0.0000, 0.0000, 0.0000,\n",
              "          0.0000, 0.0000, 0.0000, 0.0000, 0.0000, 0.0000, 0.0000, 0.0000,\n",
              "          0.0000, 0.0000, 0.0000, 0.0000],\n",
              "         [0.0000, 0.0000, 0.0000, 0.0000, 0.0000, 0.0000, 0.0000, 0.0000,\n",
              "          0.0000, 0.0000, 0.0000, 0.0000, 0.0000, 0.0000, 0.0000, 0.0000,\n",
              "          0.0000, 0.0000, 0.0000, 0.0000, 0.0000, 0.0000, 0.0000, 0.0000,\n",
              "          0.0000, 0.0000, 0.0000, 0.0000],\n",
              "         [0.0000, 0.0000, 0.0000, 0.0000, 0.0000, 0.0000, 0.0000, 0.0000,\n",
              "          0.0000, 0.0000, 0.0000, 0.0000, 0.0000, 0.0000, 0.0000, 0.0000,\n",
              "          0.0000, 0.0000, 0.0000, 0.0000, 0.0000, 0.0000, 0.0000, 0.0000,\n",
              "          0.0000, 0.0000, 0.0000, 0.0000],\n",
              "         [0.0000, 0.0000, 0.0000, 0.0000, 0.0000, 0.0000, 0.0000, 0.0000,\n",
              "          0.0000, 0.0000, 0.0000, 0.0000, 0.0000, 0.0000, 0.0000, 0.0000,\n",
              "          0.0000, 0.0000, 0.0000, 0.0000, 0.0000, 0.0000, 0.0000, 0.0000,\n",
              "          0.0000, 0.0000, 0.0000, 0.0000],\n",
              "         [0.0000, 0.0000, 0.0000, 0.0000, 0.0000, 0.0000, 0.0000, 0.0000,\n",
              "          0.0000, 0.0000, 0.0000, 0.0000, 0.0118, 0.0706, 0.0706, 0.0706,\n",
              "          0.4941, 0.5333, 0.6863, 0.1020, 0.6510, 1.0000, 0.9686, 0.4980,\n",
              "          0.0000, 0.0000, 0.0000, 0.0000],\n",
              "         [0.0000, 0.0000, 0.0000, 0.0000, 0.0000, 0.0000, 0.0000, 0.0000,\n",
              "          0.1176, 0.1412, 0.3686, 0.6039, 0.6667, 0.9922, 0.9922, 0.9922,\n",
              "          0.9922, 0.9922, 0.8824, 0.6745, 0.9922, 0.9490, 0.7647, 0.2510,\n",
              "          0.0000, 0.0000, 0.0000, 0.0000],\n",
              "         [0.0000, 0.0000, 0.0000, 0.0000, 0.0000, 0.0000, 0.0000, 0.1922,\n",
              "          0.9333, 0.9922, 0.9922, 0.9922, 0.9922, 0.9922, 0.9922, 0.9922,\n",
              "          0.9922, 0.9843, 0.3647, 0.3216, 0.3216, 0.2196, 0.1529, 0.0000,\n",
              "          0.0000, 0.0000, 0.0000, 0.0000],\n",
              "         [0.0000, 0.0000, 0.0000, 0.0000, 0.0000, 0.0000, 0.0000, 0.0706,\n",
              "          0.8588, 0.9922, 0.9922, 0.9922, 0.9922, 0.9922, 0.7765, 0.7137,\n",
              "          0.9686, 0.9451, 0.0000, 0.0000, 0.0000, 0.0000, 0.0000, 0.0000,\n",
              "          0.0000, 0.0000, 0.0000, 0.0000],\n",
              "         [0.0000, 0.0000, 0.0000, 0.0000, 0.0000, 0.0000, 0.0000, 0.0000,\n",
              "          0.3137, 0.6118, 0.4196, 0.9922, 0.9922, 0.8039, 0.0431, 0.0000,\n",
              "          0.1686, 0.6039, 0.0000, 0.0000, 0.0000, 0.0000, 0.0000, 0.0000,\n",
              "          0.0000, 0.0000, 0.0000, 0.0000],\n",
              "         [0.0000, 0.0000, 0.0000, 0.0000, 0.0000, 0.0000, 0.0000, 0.0000,\n",
              "          0.0000, 0.0549, 0.0039, 0.6039, 0.9922, 0.3529, 0.0000, 0.0000,\n",
              "          0.0000, 0.0000, 0.0000, 0.0000, 0.0000, 0.0000, 0.0000, 0.0000,\n",
              "          0.0000, 0.0000, 0.0000, 0.0000],\n",
              "         [0.0000, 0.0000, 0.0000, 0.0000, 0.0000, 0.0000, 0.0000, 0.0000,\n",
              "          0.0000, 0.0000, 0.0000, 0.5451, 0.9922, 0.7451, 0.0078, 0.0000,\n",
              "          0.0000, 0.0000, 0.0000, 0.0000, 0.0000, 0.0000, 0.0000, 0.0000,\n",
              "          0.0000, 0.0000, 0.0000, 0.0000],\n",
              "         [0.0000, 0.0000, 0.0000, 0.0000, 0.0000, 0.0000, 0.0000, 0.0000,\n",
              "          0.0000, 0.0000, 0.0000, 0.0431, 0.7451, 0.9922, 0.2745, 0.0000,\n",
              "          0.0000, 0.0000, 0.0000, 0.0000, 0.0000, 0.0000, 0.0000, 0.0000,\n",
              "          0.0000, 0.0000, 0.0000, 0.0000],\n",
              "         [0.0000, 0.0000, 0.0000, 0.0000, 0.0000, 0.0000, 0.0000, 0.0000,\n",
              "          0.0000, 0.0000, 0.0000, 0.0000, 0.1373, 0.9451, 0.8824, 0.6275,\n",
              "          0.4235, 0.0039, 0.0000, 0.0000, 0.0000, 0.0000, 0.0000, 0.0000,\n",
              "          0.0000, 0.0000, 0.0000, 0.0000],\n",
              "         [0.0000, 0.0000, 0.0000, 0.0000, 0.0000, 0.0000, 0.0000, 0.0000,\n",
              "          0.0000, 0.0000, 0.0000, 0.0000, 0.0000, 0.3176, 0.9412, 0.9922,\n",
              "          0.9922, 0.4667, 0.0980, 0.0000, 0.0000, 0.0000, 0.0000, 0.0000,\n",
              "          0.0000, 0.0000, 0.0000, 0.0000],\n",
              "         [0.0000, 0.0000, 0.0000, 0.0000, 0.0000, 0.0000, 0.0000, 0.0000,\n",
              "          0.0000, 0.0000, 0.0000, 0.0000, 0.0000, 0.0000, 0.1765, 0.7294,\n",
              "          0.9922, 0.9922, 0.5882, 0.1059, 0.0000, 0.0000, 0.0000, 0.0000,\n",
              "          0.0000, 0.0000, 0.0000, 0.0000],\n",
              "         [0.0000, 0.0000, 0.0000, 0.0000, 0.0000, 0.0000, 0.0000, 0.0000,\n",
              "          0.0000, 0.0000, 0.0000, 0.0000, 0.0000, 0.0000, 0.0000, 0.0627,\n",
              "          0.3647, 0.9882, 0.9922, 0.7333, 0.0000, 0.0000, 0.0000, 0.0000,\n",
              "          0.0000, 0.0000, 0.0000, 0.0000],\n",
              "         [0.0000, 0.0000, 0.0000, 0.0000, 0.0000, 0.0000, 0.0000, 0.0000,\n",
              "          0.0000, 0.0000, 0.0000, 0.0000, 0.0000, 0.0000, 0.0000, 0.0000,\n",
              "          0.0000, 0.9765, 0.9922, 0.9765, 0.2510, 0.0000, 0.0000, 0.0000,\n",
              "          0.0000, 0.0000, 0.0000, 0.0000],\n",
              "         [0.0000, 0.0000, 0.0000, 0.0000, 0.0000, 0.0000, 0.0000, 0.0000,\n",
              "          0.0000, 0.0000, 0.0000, 0.0000, 0.0000, 0.0000, 0.1804, 0.5098,\n",
              "          0.7176, 0.9922, 0.9922, 0.8118, 0.0078, 0.0000, 0.0000, 0.0000,\n",
              "          0.0000, 0.0000, 0.0000, 0.0000],\n",
              "         [0.0000, 0.0000, 0.0000, 0.0000, 0.0000, 0.0000, 0.0000, 0.0000,\n",
              "          0.0000, 0.0000, 0.0000, 0.0000, 0.1529, 0.5804, 0.8980, 0.9922,\n",
              "          0.9922, 0.9922, 0.9804, 0.7137, 0.0000, 0.0000, 0.0000, 0.0000,\n",
              "          0.0000, 0.0000, 0.0000, 0.0000],\n",
              "         [0.0000, 0.0000, 0.0000, 0.0000, 0.0000, 0.0000, 0.0000, 0.0000,\n",
              "          0.0000, 0.0000, 0.0941, 0.4471, 0.8667, 0.9922, 0.9922, 0.9922,\n",
              "          0.9922, 0.7882, 0.3059, 0.0000, 0.0000, 0.0000, 0.0000, 0.0000,\n",
              "          0.0000, 0.0000, 0.0000, 0.0000],\n",
              "         [0.0000, 0.0000, 0.0000, 0.0000, 0.0000, 0.0000, 0.0000, 0.0000,\n",
              "          0.0902, 0.2588, 0.8353, 0.9922, 0.9922, 0.9922, 0.9922, 0.7765,\n",
              "          0.3176, 0.0078, 0.0000, 0.0000, 0.0000, 0.0000, 0.0000, 0.0000,\n",
              "          0.0000, 0.0000, 0.0000, 0.0000],\n",
              "         [0.0000, 0.0000, 0.0000, 0.0000, 0.0000, 0.0000, 0.0706, 0.6706,\n",
              "          0.8588, 0.9922, 0.9922, 0.9922, 0.9922, 0.7647, 0.3137, 0.0353,\n",
              "          0.0000, 0.0000, 0.0000, 0.0000, 0.0000, 0.0000, 0.0000, 0.0000,\n",
              "          0.0000, 0.0000, 0.0000, 0.0000],\n",
              "         [0.0000, 0.0000, 0.0000, 0.0000, 0.2157, 0.6745, 0.8863, 0.9922,\n",
              "          0.9922, 0.9922, 0.9922, 0.9569, 0.5216, 0.0431, 0.0000, 0.0000,\n",
              "          0.0000, 0.0000, 0.0000, 0.0000, 0.0000, 0.0000, 0.0000, 0.0000,\n",
              "          0.0000, 0.0000, 0.0000, 0.0000],\n",
              "         [0.0000, 0.0000, 0.0000, 0.0000, 0.5333, 0.9922, 0.9922, 0.9922,\n",
              "          0.8314, 0.5294, 0.5176, 0.0627, 0.0000, 0.0000, 0.0000, 0.0000,\n",
              "          0.0000, 0.0000, 0.0000, 0.0000, 0.0000, 0.0000, 0.0000, 0.0000,\n",
              "          0.0000, 0.0000, 0.0000, 0.0000],\n",
              "         [0.0000, 0.0000, 0.0000, 0.0000, 0.0000, 0.0000, 0.0000, 0.0000,\n",
              "          0.0000, 0.0000, 0.0000, 0.0000, 0.0000, 0.0000, 0.0000, 0.0000,\n",
              "          0.0000, 0.0000, 0.0000, 0.0000, 0.0000, 0.0000, 0.0000, 0.0000,\n",
              "          0.0000, 0.0000, 0.0000, 0.0000],\n",
              "         [0.0000, 0.0000, 0.0000, 0.0000, 0.0000, 0.0000, 0.0000, 0.0000,\n",
              "          0.0000, 0.0000, 0.0000, 0.0000, 0.0000, 0.0000, 0.0000, 0.0000,\n",
              "          0.0000, 0.0000, 0.0000, 0.0000, 0.0000, 0.0000, 0.0000, 0.0000,\n",
              "          0.0000, 0.0000, 0.0000, 0.0000],\n",
              "         [0.0000, 0.0000, 0.0000, 0.0000, 0.0000, 0.0000, 0.0000, 0.0000,\n",
              "          0.0000, 0.0000, 0.0000, 0.0000, 0.0000, 0.0000, 0.0000, 0.0000,\n",
              "          0.0000, 0.0000, 0.0000, 0.0000, 0.0000, 0.0000, 0.0000, 0.0000,\n",
              "          0.0000, 0.0000, 0.0000, 0.0000]]], device='cuda:0')"
            ]
          },
          "metadata": {
            "tags": []
          },
          "execution_count": 4
        }
      ]
    },
    {
      "cell_type": "markdown",
      "metadata": {
        "id": "h2DOnIce8yNF"
      },
      "source": [
        "This block gives the classes of the dataset viz. Integers from 0 to 9 followed by there literal name."
      ]
    },
    {
      "cell_type": "code",
      "metadata": {
        "id": "jWpAA8OO99ba",
        "colab": {
          "base_uri": "https://localhost:8080/"
        },
        "outputId": "b1eb1ad2-53d5-4c50-d381-7200857fffab"
      },
      "source": [
        "print(dataset.classes)"
      ],
      "execution_count": null,
      "outputs": [
        {
          "output_type": "stream",
          "text": [
            "['0 - zero', '1 - one', '2 - two', '3 - three', '4 - four', '5 - five', '6 - six', '7 - seven', '8 - eight', '9 - nine']\n"
          ],
          "name": "stdout"
        }
      ]
    },
    {
      "cell_type": "markdown",
      "metadata": {
        "id": "-T4xy0Df9lMB"
      },
      "source": [
        "Completely reproducible results are not guaranteed across PyTorch releases, individual commits, or different platforms. Furthermore, results may not be reproducible between CPU and GPU executions, even when using identical seeds.\n",
        "\n",
        "However, there are some steps you can take to limit the number of sources of nondeterministic behavior for a specific platform, device, and PyTorch release. First, you can control sources of randomness that can cause multiple executions of your application to behave differently. Second, you can configure PyTorch to avoid using nondeterministic algorithms for some operations, so that multiple calls to those operations, given the same inputs, will produce the same result.\n",
        "\n",
        "One of the methods is to set a `random_seed` and call `torch.manual_seed`.\n",
        "This returns a torch Generator object or 'specific random number' which becomes the starting point for all other random calls in further operations thus eliminating non-deterministic results."
      ]
    },
    {
      "cell_type": "code",
      "metadata": {
        "id": "h-rvOGUM99l6"
      },
      "source": [
        "random_seed = 42\n",
        "torch.manual_seed(random_seed);"
      ],
      "execution_count": null,
      "outputs": []
    },
    {
      "cell_type": "markdown",
      "metadata": {
        "id": "EvGafVfx-gq8"
      },
      "source": [
        "Now we will split the dataset into two parts-Training and Validation. It's self-explanatory what each part will be used for. "
      ]
    },
    {
      "cell_type": "code",
      "metadata": {
        "id": "H8POi0Fg99tq",
        "colab": {
          "base_uri": "https://localhost:8080/"
        },
        "outputId": "e14f7b5b-1989-44f3-f10c-073b4a98d6a3"
      },
      "source": [
        "val_size = 10000\n",
        "train_size = len(dataset) - val_size\n",
        "\n",
        "train_ds, val_ds = random_split(dataset, [train_size, val_size])\n",
        "len(train_ds), len(val_ds)"
      ],
      "execution_count": null,
      "outputs": [
        {
          "output_type": "execute_result",
          "data": {
            "text/plain": [
              "(50000, 10000)"
            ]
          },
          "metadata": {
            "tags": []
          },
          "execution_count": 7
        }
      ]
    },
    {
      "cell_type": "markdown",
      "metadata": {
        "id": "_-J2L74J9R9N"
      },
      "source": [
        "In this block, we allocate how many images are to be processed in each computation on the gpu."
      ]
    },
    {
      "cell_type": "code",
      "metadata": {
        "id": "XaI4rEJb9916",
        "colab": {
          "base_uri": "https://localhost:8080/"
        },
        "outputId": "88034b99-93f6-4ae3-a62d-c1217b42f1cb"
      },
      "source": [
        "batch_size=128\n",
        "train_dl = DataLoader(train_ds, batch_size, shuffle=True, num_workers=4, pin_memory=True)\n",
        "val_dl = DataLoader(val_ds, batch_size*2, num_workers=4, pin_memory=True)"
      ],
      "execution_count": null,
      "outputs": [
        {
          "output_type": "stream",
          "text": [
            "/usr/local/lib/python3.7/dist-packages/torch/utils/data/dataloader.py:481: UserWarning: This DataLoader will create 4 worker processes in total. Our suggested max number of worker in current system is 2, which is smaller than what this DataLoader is going to create. Please be aware that excessive worker creation might get DataLoader running slow or even freeze, lower the worker number to avoid potential slowness/freeze if necessary.\n",
            "  cpuset_checked))\n"
          ],
          "name": "stderr"
        }
      ]
    },
    {
      "cell_type": "markdown",
      "metadata": {
        "id": "KTS4IE_S9vvc"
      },
      "source": [
        "The following section contains a simple function `show_batch` which shows a sample 16x8 grid of the handwritten digits from the dataset. "
      ]
    },
    {
      "cell_type": "code",
      "metadata": {
        "id": "Z99deB_J998a",
        "colab": {
          "base_uri": "https://localhost:8080/",
          "height": 415
        },
        "outputId": "2cc0cd32-6d58-49e1-bd52-68ae29e88cbc"
      },
      "source": [
        "def show_batch(dl):\n",
        "    for images, labels in dl:\n",
        "        fig, ax = plt.subplots(figsize=(12, 6))\n",
        "        ax.set_xticks([]); ax.set_yticks([])\n",
        "        ax.imshow(make_grid(images, nrow=16).permute(1, 2, 0))\n",
        "        break\n",
        "show_batch(train_dl)"
      ],
      "execution_count": null,
      "outputs": [
        {
          "output_type": "stream",
          "text": [
            "/usr/local/lib/python3.7/dist-packages/torch/utils/data/dataloader.py:481: UserWarning: This DataLoader will create 4 worker processes in total. Our suggested max number of worker in current system is 2, which is smaller than what this DataLoader is going to create. Please be aware that excessive worker creation might get DataLoader running slow or even freeze, lower the worker number to avoid potential slowness/freeze if necessary.\n",
            "  cpuset_checked))\n"
          ],
          "name": "stderr"
        },
        {
          "output_type": "display_data",
          "data": {
            "image/png": "[encoded data removed]",
            "text/plain": [
              "<Figure size 864x432 with 1 Axes>"
            ]
          },
          "metadata": {
            "tags": []
          }
        }
      ]
    },
    {
      "cell_type": "markdown",
      "metadata": {
        "id": "sleDcdU5-Lof"
      },
      "source": [
        "# **The Model**\n",
        "Now we come to main building block of this project-the network that we will be using. To start of, this class seems to contain functions that house tons of mathematical functions. They are explained below-\n",
        "\n",
        "1.   The first step comprises of the first convolutional layer. The `nn.Conv2d` applies a 2D convolution over an input signal composed of several input planes.\n",
        "2.   Another layer is applied in the next line.\n",
        "3.   The `nn.Dropout2d` call zeroes out the probability of random channels independently. The algorithm followed is utilisation of random samples from a Bernoulli distribution in order to introduce randomness.\n",
        "4.   `nn.Linear` is probably the most important out of all these as this applies a linear transformation to the incoming data from previous layer by transposing the array, multiplying a weight and adding a bias. This is the basis of any sort transformation in a model.\n",
        "\n",
        "\n",
        "\n",
        "In the `forward` function, we define few mathematical function calls that are important from the perspective of machine learning itself.\n",
        " \n",
        "\n",
        "1.   `relu`-Short for rectified linear unit. This is a function that returns y=0 for x<0 and y=x for x>=0. This is used for introducing non-linearity in the input data which makes it useful for further computation.\n",
        "2.   `max_pool2d` essentially scales down the matrix py applying a max pool layer on it.\n",
        "\n",
        "\n"
      ]
    },
    {
      "cell_type": "code",
      "metadata": {
        "id": "R5X3HeL09-Xb"
      },
      "source": [
        "class Net(nn.Module):\n",
        "    def __init__(self):\n",
        "        super(Net, self).__init__()\n",
        "        self.conv1 = nn.Conv2d(1, 10, kernel_size=5)\n",
        "        self.conv2 = nn.Conv2d(10, 20, kernel_size=5)\n",
        "        self.conv2_drop = nn.Dropout2d()\n",
        "        self.fc1 = nn.Linear(320, 50)\n",
        "        self.fc2 = nn.Linear(50, 10)\n",
        "\n",
        "    def forward(self, x):\n",
        "        x = x.cuda()\n",
        "        x = F.relu(F.max_pool2d(self.conv1(x), 2))\n",
        "        x = F.relu(F.max_pool2d(self.conv2_drop(self.conv2(x)), 2))\n",
        "        x = x.view(-1, 320)\n",
        "        x = F.relu(self.fc1(x))\n",
        "        x = F.dropout(x, training=self.training)\n",
        "        x = self.fc2(x)\n",
        "        return F.log_softmax(x)"
      ],
      "execution_count": null,
      "outputs": []
    },
    {
      "cell_type": "markdown",
      "metadata": {
        "id": "fx4I55_4D6fZ"
      },
      "source": [
        "# **Explanation of CNN**\n",
        "The 2D convolution is a fairly simple operation at heart: you start with a kernel, which is simply a small matrix of weights. This kernel “slides” over the 2D input data, performing an elementwise multiplication with the part of the input it is currently on, and then summing up the results into a single output pixel.\n",
        "\n",
        "Source-[More about CNN->](https://towardsdatascience.com/intuitively-understanding-convolutions-for-deep-learning-1f6f42faee1)"
      ]
    },
    {
      "cell_type": "code",
      "metadata": {
        "id": "5Iy0ZaOv9-eK"
      },
      "source": [
        "model = Net().cuda()"
      ],
      "execution_count": null,
      "outputs": []
    },
    {
      "cell_type": "code",
      "metadata": {
        "id": "JmVnu61R9-jc",
        "colab": {
          "base_uri": "https://localhost:8080/"
        },
        "outputId": "cd240ecd-66f1-46bb-d630-9bc629e5969b"
      },
      "source": [
        "for images, labels in train_dl:\n",
        "    print('images.shape:', images.shape)\n",
        "    out = model(images)\n",
        "    print('out.shape:', out.shape)\n",
        "    print('out[0]:', out[0])\n",
        "    break"
      ],
      "execution_count": null,
      "outputs": [
        {
          "output_type": "stream",
          "text": [
            "/usr/local/lib/python3.7/dist-packages/torch/utils/data/dataloader.py:481: UserWarning: This DataLoader will create 4 worker processes in total. Our suggested max number of worker in current system is 2, which is smaller than what this DataLoader is going to create. Please be aware that excessive worker creation might get DataLoader running slow or even freeze, lower the worker number to avoid potential slowness/freeze if necessary.\n",
            "  cpuset_checked))\n"
          ],
          "name": "stderr"
        },
        {
          "output_type": "stream",
          "text": [
            "images.shape: torch.Size([128, 1, 28, 28])\n",
            "out.shape: torch.Size([128, 10])\n",
            "out[0]: tensor([-2.3515, -2.5005, -2.2598, -2.1254, -2.3101, -2.2216, -2.2825, -2.2222,\n",
            "        -2.4861, -2.3263], device='cuda:0', grad_fn=<SelectBackward>)\n"
          ],
          "name": "stdout"
        },
        {
          "output_type": "stream",
          "text": [
            "/usr/local/lib/python3.7/dist-packages/torch/nn/functional.py:718: UserWarning: Named tensors and all their associated APIs are an experimental feature and subject to change. Please do not use them for anything important until they are released as stable. (Triggered internally at  /pytorch/c10/core/TensorImpl.h:1156.)\n",
            "  return torch.max_pool2d(input, kernel_size, stride, padding, dilation, ceil_mode)\n",
            "/usr/local/lib/python3.7/dist-packages/ipykernel_launcher.py:18: UserWarning: Implicit dimension choice for log_softmax has been deprecated. Change the call to include dim=X as an argument.\n"
          ],
          "name": "stderr"
        }
      ]
    },
    {
      "cell_type": "markdown",
      "metadata": {
        "id": "4240hy4NGmgF"
      },
      "source": [
        "# **Use of GPU**\n",
        "GPUs are widely utilised in machine learning and deep learning operations. GPUs are designed predominantly for graphics processing, at the heart of which lies matrix transformations. GPUs consists of multiple cores, opposed to CPUs which only have 2/4/6/8/12 at max. This greatly speeds up the matrix tranformations as the data jobs are distributed efficiently on the numerous cores.\n",
        "\n",
        "Keeping this in mind and as mentioned earlier, this model is written in order to exploit the computing edge that a GPU has.\n",
        "\n",
        "A lot of `.cuda()` commands can be seen in this model which essentially instructs the code to transfer the data tensors to the GPU in utilisation\n",
        "\n",
        "`get_default_device()` is a simple function that helps in identifying the runtime currently in utilisation. "
      ]
    },
    {
      "cell_type": "code",
      "metadata": {
        "id": "XBsFxLNp9-ra"
      },
      "source": [
        "def get_default_device():\n",
        "    \"\"\"Pick GPU if available, else CPU\"\"\"\n",
        "    if torch.cuda.is_available():\n",
        "        model.cuda()\n",
        "        return torch.device('cuda')\n",
        "    else:\n",
        "        return torch.device('cpu')\n",
        "    \n",
        "def to_device(data, device):\n",
        "    \"\"\"Move tensor(s) to chosen device\"\"\"\n",
        "    if isinstance(data, (list,tuple)):\n",
        "        return [to_device(x, device) for x in data]\n",
        "    return data.to(device, non_blocking=True)\n",
        "\n",
        "class DeviceDataLoader():\n",
        "    \"\"\"Wrap a dataloader to move data to a device\"\"\"\n",
        "    def __init__(self, dl, device):\n",
        "        self.dl = dl\n",
        "        self.device = device\n",
        "        \n",
        "    def __iter__(self):\n",
        "        \"\"\"Yield a batch of data after moving it to device\"\"\"\n",
        "        for b in self.dl: \n",
        "            yield to_device(b, self.device)\n",
        "\n",
        "    def __len__(self):\n",
        "        \"\"\"Number of batches\"\"\"\n",
        "        return len(self.dl)\n",
        "\n",
        "device = get_default_device()\n",
        "train_dl = DeviceDataLoader(train_dl, device)\n",
        "val_dl = DeviceDataLoader(val_dl, device)\n",
        "to_device(model, device);\n"
      ],
      "execution_count": null,
      "outputs": []
    },
    {
      "cell_type": "markdown",
      "metadata": {
        "id": "mDDi2thnJL62"
      },
      "source": [
        "Here we define some parameters for the network. Epochs is the number of times the training cycles will run. Learning rate is indicative of how precise the descent is on a surface of a graph."
      ]
    },
    {
      "cell_type": "code",
      "metadata": {
        "id": "ha_TeFOb9-vp"
      },
      "source": [
        "n_epochs = 10\n",
        "batch_size_train = 64\n",
        "batch_size_test = 1000\n",
        "learning_rate = 0.01\n",
        "momentum = 0.75\n",
        "log_interval = 10\n",
        "network = Net()\n",
        "optimizer = optim.SGD(network.parameters(), lr=learning_rate,\n",
        "                      momentum=momentum)\n",
        "continued_network = Net()\n",
        "continued_optimizer = optim.SGD(network.parameters(), lr=learning_rate,\n",
        "                                momentum=momentum)\n",
        "\n",
        "train_losses = []\n",
        "train_counter = []\n",
        "test_losses = []\n",
        "test_counter = [i*len(train_ds) for i in range(n_epochs + 1)]"
      ],
      "execution_count": null,
      "outputs": []
    },
    {
      "cell_type": "code",
      "metadata": {
        "id": "nH41skkp9-0p",
        "colab": {
          "base_uri": "https://localhost:8080/"
        },
        "outputId": "41bd4f44-5ff8-4b8b-b475-332d2d3c3d09"
      },
      "source": [
        "examples = enumerate(val_dl)\n",
        "batch_idx, (example_data, example_targets) = next(examples)"
      ],
      "execution_count": null,
      "outputs": [
        {
          "output_type": "stream",
          "text": [
            "/usr/local/lib/python3.7/dist-packages/torch/utils/data/dataloader.py:481: UserWarning: This DataLoader will create 4 worker processes in total. Our suggested max number of worker in current system is 2, which is smaller than what this DataLoader is going to create. Please be aware that excessive worker creation might get DataLoader running slow or even freeze, lower the worker number to avoid potential slowness/freeze if necessary.\n",
            "  cpuset_checked))\n"
          ],
          "name": "stderr"
        }
      ]
    },
    {
      "cell_type": "code",
      "metadata": {
        "id": "18EHUDOR9-9a"
      },
      "source": [
        "def train(epoch):#training functiion\n",
        "  network.train()\n",
        "  for batch_idx, (data, target) in enumerate(train_dl):\n",
        "    optimizer.zero_grad()\n",
        "    output = network(data)\n",
        "    loss = F.nll_loss(output, target)\n",
        "    loss.backward()\n",
        "    optimizer.step()\n",
        "    if batch_idx % log_interval == 0:\n",
        "      print('Train Epoch: {} [{}/{} ({:.0f}%)]\\tLoss: {:.6f}'.format(\n",
        "        epoch, batch_idx * len(data), len(train_ds),\n",
        "        100. * batch_idx / len(train_dl), loss.item()))\n",
        "      train_losses.append(loss.item())\n",
        "      train_counter.append(\n",
        "        (batch_idx*64) + ((epoch-1)*len(train_ds)))"
      ],
      "execution_count": null,
      "outputs": []
    },
    {
      "cell_type": "code",
      "metadata": {
        "id": "o5zPzWze9_B6"
      },
      "source": [
        "def test():#test function\n",
        "  network.eval().cuda()\n",
        "  test_loss = 0\n",
        "  correct = 0\n",
        "  with torch.no_grad():\n",
        "    for data, target in val_dl:\n",
        "      output = network(data)\n",
        "      test_loss += F.nll_loss(output, target, size_average=False).item()\n",
        "      pred = output.data.max(1, keepdim=True)[1]\n",
        "      correct += pred.eq(target.data.view_as(pred)).sum()\n",
        "  test_loss /= len(val_ds)\n",
        "  test_losses.append(test_loss)\n",
        "  print('\\nTest set: Avg. loss: {:.4f}, Accuracy: {}/{} ({:.2f}%)\\n'.format(\n",
        "    test_loss, correct, len(val_ds),\n",
        "    float(100. * correct / len(val_ds))))"
      ],
      "execution_count": null,
      "outputs": []
    },
    {
      "cell_type": "markdown",
      "metadata": {
        "id": "fW7PplLKKj3l"
      },
      "source": [
        "Running the test function, it can be seen we obtain an accuracy of almost 97%."
      ]
    },
    {
      "cell_type": "code",
      "metadata": {
        "id": "EXVlzvSP9_GL",
        "colab": {
          "base_uri": "https://localhost:8080/"
        },
        "outputId": "74b89e5f-d540-441f-8160-e89eee67178a"
      },
      "source": [
        "test()\n",
        "for epoch in range(1, n_epochs + 1):\n",
        "  train(epoch)\n",
        "  test()"
      ],
      "execution_count": null,
      "outputs": [
        {
          "output_type": "stream",
          "text": [
            "/usr/local/lib/python3.7/dist-packages/torch/utils/data/dataloader.py:481: UserWarning: This DataLoader will create 4 worker processes in total. Our suggested max number of worker in current system is 2, which is smaller than what this DataLoader is going to create. Please be aware that excessive worker creation might get DataLoader running slow or even freeze, lower the worker number to avoid potential slowness/freeze if necessary.\n",
            "  cpuset_checked))\n",
            "/usr/local/lib/python3.7/dist-packages/ipykernel_launcher.py:18: UserWarning: Implicit dimension choice for log_softmax has been deprecated. Change the call to include dim=X as an argument.\n",
            "/usr/local/lib/python3.7/dist-packages/torch/nn/_reduction.py:42: UserWarning: size_average and reduce args will be deprecated, please use reduction='sum' instead.\n",
            "  warnings.warn(warning.format(ret))\n"
          ],
          "name": "stderr"
        },
        {
          "output_type": "stream",
          "text": [
            "\n",
            "Test set: Avg. loss: 2.3059, Accuracy: 916/10000 (9.16%)\n",
            "\n",
            "Train Epoch: 1 [0/50000 (0%)]\tLoss: 2.297681\n",
            "Train Epoch: 1 [1280/50000 (3%)]\tLoss: 2.320287\n",
            "Train Epoch: 1 [2560/50000 (5%)]\tLoss: 2.305424\n",
            "Train Epoch: 1 [3840/50000 (8%)]\tLoss: 2.295323\n",
            "Train Epoch: 1 [5120/50000 (10%)]\tLoss: 2.299852\n",
            "Train Epoch: 1 [6400/50000 (13%)]\tLoss: 2.297405\n",
            "Train Epoch: 1 [7680/50000 (15%)]\tLoss: 2.301705\n",
            "Train Epoch: 1 [8960/50000 (18%)]\tLoss: 2.291392\n",
            "Train Epoch: 1 [10240/50000 (20%)]\tLoss: 2.282737\n",
            "Train Epoch: 1 [11520/50000 (23%)]\tLoss: 2.284652\n",
            "Train Epoch: 1 [12800/50000 (26%)]\tLoss: 2.284365\n",
            "Train Epoch: 1 [14080/50000 (28%)]\tLoss: 2.266174\n",
            "Train Epoch: 1 [15360/50000 (31%)]\tLoss: 2.228315\n",
            "Train Epoch: 1 [16640/50000 (33%)]\tLoss: 2.217609\n",
            "Train Epoch: 1 [17920/50000 (36%)]\tLoss: 2.204439\n",
            "Train Epoch: 1 [19200/50000 (38%)]\tLoss: 2.136221\n",
            "Train Epoch: 1 [20480/50000 (41%)]\tLoss: 2.079793\n",
            "Train Epoch: 1 [21760/50000 (43%)]\tLoss: 2.072571\n",
            "Train Epoch: 1 [23040/50000 (46%)]\tLoss: 1.940322\n",
            "Train Epoch: 1 [24320/50000 (49%)]\tLoss: 1.899099\n",
            "Train Epoch: 1 [25600/50000 (51%)]\tLoss: 1.734928\n",
            "Train Epoch: 1 [26880/50000 (54%)]\tLoss: 1.654407\n",
            "Train Epoch: 1 [28160/50000 (56%)]\tLoss: 1.457217\n",
            "Train Epoch: 1 [29440/50000 (59%)]\tLoss: 1.432778\n",
            "Train Epoch: 1 [30720/50000 (61%)]\tLoss: 1.238145\n",
            "Train Epoch: 1 [32000/50000 (64%)]\tLoss: 1.205030\n",
            "Train Epoch: 1 [33280/50000 (66%)]\tLoss: 1.061055\n",
            "Train Epoch: 1 [34560/50000 (69%)]\tLoss: 1.028497\n",
            "Train Epoch: 1 [35840/50000 (72%)]\tLoss: 0.928704\n",
            "Train Epoch: 1 [37120/50000 (74%)]\tLoss: 0.980651\n",
            "Train Epoch: 1 [38400/50000 (77%)]\tLoss: 1.157942\n",
            "Train Epoch: 1 [39680/50000 (79%)]\tLoss: 0.964135\n",
            "Train Epoch: 1 [40960/50000 (82%)]\tLoss: 0.826586\n",
            "Train Epoch: 1 [42240/50000 (84%)]\tLoss: 0.766767\n",
            "Train Epoch: 1 [43520/50000 (87%)]\tLoss: 0.969755\n",
            "Train Epoch: 1 [44800/50000 (90%)]\tLoss: 0.956696\n",
            "Train Epoch: 1 [46080/50000 (92%)]\tLoss: 0.799034\n",
            "Train Epoch: 1 [47360/50000 (95%)]\tLoss: 0.823743\n",
            "Train Epoch: 1 [48640/50000 (97%)]\tLoss: 0.903159\n",
            "Train Epoch: 1 [31200/50000 (100%)]\tLoss: 0.913599\n",
            "\n",
            "Test set: Avg. loss: 0.4888, Accuracy: 8648/10000 (86.48%)\n",
            "\n",
            "Train Epoch: 2 [0/50000 (0%)]\tLoss: 0.887339\n",
            "Train Epoch: 2 [1280/50000 (3%)]\tLoss: 0.823139\n",
            "Train Epoch: 2 [2560/50000 (5%)]\tLoss: 0.717133\n",
            "Train Epoch: 2 [3840/50000 (8%)]\tLoss: 0.702579\n",
            "Train Epoch: 2 [5120/50000 (10%)]\tLoss: 0.772272\n",
            "Train Epoch: 2 [6400/50000 (13%)]\tLoss: 0.610550\n",
            "Train Epoch: 2 [7680/50000 (15%)]\tLoss: 0.782176\n",
            "Train Epoch: 2 [8960/50000 (18%)]\tLoss: 0.765281\n",
            "Train Epoch: 2 [10240/50000 (20%)]\tLoss: 0.623186\n",
            "Train Epoch: 2 [11520/50000 (23%)]\tLoss: 0.647353\n",
            "Train Epoch: 2 [12800/50000 (26%)]\tLoss: 0.749556\n",
            "Train Epoch: 2 [14080/50000 (28%)]\tLoss: 0.687485\n",
            "Train Epoch: 2 [15360/50000 (31%)]\tLoss: 0.675773\n",
            "Train Epoch: 2 [16640/50000 (33%)]\tLoss: 0.564023\n",
            "Train Epoch: 2 [17920/50000 (36%)]\tLoss: 0.481822\n",
            "Train Epoch: 2 [19200/50000 (38%)]\tLoss: 0.649490\n",
            "Train Epoch: 2 [20480/50000 (41%)]\tLoss: 0.673432\n",
            "Train Epoch: 2 [21760/50000 (43%)]\tLoss: 0.583388\n",
            "Train Epoch: 2 [23040/50000 (46%)]\tLoss: 0.474137\n",
            "Train Epoch: 2 [24320/50000 (49%)]\tLoss: 0.519799\n",
            "Train Epoch: 2 [25600/50000 (51%)]\tLoss: 0.760405\n",
            "Train Epoch: 2 [26880/50000 (54%)]\tLoss: 0.585788\n",
            "Train Epoch: 2 [28160/50000 (56%)]\tLoss: 0.582673\n",
            "Train Epoch: 2 [29440/50000 (59%)]\tLoss: 0.669612\n",
            "Train Epoch: 2 [30720/50000 (61%)]\tLoss: 0.720999\n",
            "Train Epoch: 2 [32000/50000 (64%)]\tLoss: 0.599541\n",
            "Train Epoch: 2 [33280/50000 (66%)]\tLoss: 0.520705\n",
            "Train Epoch: 2 [34560/50000 (69%)]\tLoss: 0.616848\n",
            "Train Epoch: 2 [35840/50000 (72%)]\tLoss: 0.405189\n",
            "Train Epoch: 2 [37120/50000 (74%)]\tLoss: 0.709718\n",
            "Train Epoch: 2 [38400/50000 (77%)]\tLoss: 0.523261\n",
            "Train Epoch: 2 [39680/50000 (79%)]\tLoss: 0.554053\n",
            "Train Epoch: 2 [40960/50000 (82%)]\tLoss: 0.499089\n",
            "Train Epoch: 2 [42240/50000 (84%)]\tLoss: 0.715005\n",
            "Train Epoch: 2 [43520/50000 (87%)]\tLoss: 0.433714\n",
            "Train Epoch: 2 [44800/50000 (90%)]\tLoss: 0.616738\n",
            "Train Epoch: 2 [46080/50000 (92%)]\tLoss: 0.587977\n",
            "Train Epoch: 2 [47360/50000 (95%)]\tLoss: 0.539810\n",
            "Train Epoch: 2 [48640/50000 (97%)]\tLoss: 0.376923\n",
            "Train Epoch: 2 [31200/50000 (100%)]\tLoss: 0.597566\n",
            "\n",
            "Test set: Avg. loss: 0.2670, Accuracy: 9216/10000 (92.16%)\n",
            "\n",
            "Train Epoch: 3 [0/50000 (0%)]\tLoss: 0.610903\n",
            "Train Epoch: 3 [1280/50000 (3%)]\tLoss: 0.490843\n",
            "Train Epoch: 3 [2560/50000 (5%)]\tLoss: 0.415556\n",
            "Train Epoch: 3 [3840/50000 (8%)]\tLoss: 0.511308\n",
            "Train Epoch: 3 [5120/50000 (10%)]\tLoss: 0.582249\n",
            "Train Epoch: 3 [6400/50000 (13%)]\tLoss: 0.426611\n",
            "Train Epoch: 3 [7680/50000 (15%)]\tLoss: 0.451916\n",
            "Train Epoch: 3 [8960/50000 (18%)]\tLoss: 0.563269\n",
            "Train Epoch: 3 [10240/50000 (20%)]\tLoss: 0.418975\n",
            "Train Epoch: 3 [11520/50000 (23%)]\tLoss: 0.469904\n",
            "Train Epoch: 3 [12800/50000 (26%)]\tLoss: 0.492736\n",
            "Train Epoch: 3 [14080/50000 (28%)]\tLoss: 0.610245\n",
            "Train Epoch: 3 [15360/50000 (31%)]\tLoss: 0.515599\n",
            "Train Epoch: 3 [16640/50000 (33%)]\tLoss: 0.502910\n",
            "Train Epoch: 3 [17920/50000 (36%)]\tLoss: 0.464873\n",
            "Train Epoch: 3 [19200/50000 (38%)]\tLoss: 0.583303\n",
            "Train Epoch: 3 [20480/50000 (41%)]\tLoss: 0.397033\n",
            "Train Epoch: 3 [21760/50000 (43%)]\tLoss: 0.535040\n",
            "Train Epoch: 3 [23040/50000 (46%)]\tLoss: 0.629851\n",
            "Train Epoch: 3 [24320/50000 (49%)]\tLoss: 0.441640\n",
            "Train Epoch: 3 [25600/50000 (51%)]\tLoss: 0.669451\n",
            "Train Epoch: 3 [26880/50000 (54%)]\tLoss: 0.380064\n",
            "Train Epoch: 3 [28160/50000 (56%)]\tLoss: 0.364142\n",
            "Train Epoch: 3 [29440/50000 (59%)]\tLoss: 0.364525\n",
            "Train Epoch: 3 [30720/50000 (61%)]\tLoss: 0.425257\n",
            "Train Epoch: 3 [32000/50000 (64%)]\tLoss: 0.449024\n",
            "Train Epoch: 3 [33280/50000 (66%)]\tLoss: 0.498925\n",
            "Train Epoch: 3 [34560/50000 (69%)]\tLoss: 0.390004\n",
            "Train Epoch: 3 [35840/50000 (72%)]\tLoss: 0.559850\n",
            "Train Epoch: 3 [37120/50000 (74%)]\tLoss: 0.549509\n",
            "Train Epoch: 3 [38400/50000 (77%)]\tLoss: 0.547980\n",
            "Train Epoch: 3 [39680/50000 (79%)]\tLoss: 0.600094\n",
            "Train Epoch: 3 [40960/50000 (82%)]\tLoss: 0.437595\n",
            "Train Epoch: 3 [42240/50000 (84%)]\tLoss: 0.413697\n",
            "Train Epoch: 3 [43520/50000 (87%)]\tLoss: 0.389297\n",
            "Train Epoch: 3 [44800/50000 (90%)]\tLoss: 0.338813\n",
            "Train Epoch: 3 [46080/50000 (92%)]\tLoss: 0.402510\n",
            "Train Epoch: 3 [47360/50000 (95%)]\tLoss: 0.415267\n",
            "Train Epoch: 3 [48640/50000 (97%)]\tLoss: 0.260312\n",
            "Train Epoch: 3 [31200/50000 (100%)]\tLoss: 0.317414\n",
            "\n",
            "Test set: Avg. loss: 0.2032, Accuracy: 9408/10000 (94.08%)\n",
            "\n",
            "Train Epoch: 4 [0/50000 (0%)]\tLoss: 0.390876\n",
            "Train Epoch: 4 [1280/50000 (3%)]\tLoss: 0.562474\n",
            "Train Epoch: 4 [2560/50000 (5%)]\tLoss: 0.382225\n",
            "Train Epoch: 4 [3840/50000 (8%)]\tLoss: 0.554073\n",
            "Train Epoch: 4 [5120/50000 (10%)]\tLoss: 0.353701\n",
            "Train Epoch: 4 [6400/50000 (13%)]\tLoss: 0.421302\n",
            "Train Epoch: 4 [7680/50000 (15%)]\tLoss: 0.432923\n",
            "Train Epoch: 4 [8960/50000 (18%)]\tLoss: 0.375714\n",
            "Train Epoch: 4 [10240/50000 (20%)]\tLoss: 0.435273\n",
            "Train Epoch: 4 [11520/50000 (23%)]\tLoss: 0.379010\n",
            "Train Epoch: 4 [12800/50000 (26%)]\tLoss: 0.415052\n",
            "Train Epoch: 4 [14080/50000 (28%)]\tLoss: 0.468271\n",
            "Train Epoch: 4 [15360/50000 (31%)]\tLoss: 0.502991\n",
            "Train Epoch: 4 [16640/50000 (33%)]\tLoss: 0.366975\n",
            "Train Epoch: 4 [17920/50000 (36%)]\tLoss: 0.677427\n",
            "Train Epoch: 4 [19200/50000 (38%)]\tLoss: 0.285662\n",
            "Train Epoch: 4 [20480/50000 (41%)]\tLoss: 0.433812\n",
            "Train Epoch: 4 [21760/50000 (43%)]\tLoss: 0.325728\n",
            "Train Epoch: 4 [23040/50000 (46%)]\tLoss: 0.293369\n",
            "Train Epoch: 4 [24320/50000 (49%)]\tLoss: 0.380592\n",
            "Train Epoch: 4 [25600/50000 (51%)]\tLoss: 0.324525\n",
            "Train Epoch: 4 [26880/50000 (54%)]\tLoss: 0.420967\n",
            "Train Epoch: 4 [28160/50000 (56%)]\tLoss: 0.412426\n",
            "Train Epoch: 4 [29440/50000 (59%)]\tLoss: 0.392857\n",
            "Train Epoch: 4 [30720/50000 (61%)]\tLoss: 0.360765\n",
            "Train Epoch: 4 [32000/50000 (64%)]\tLoss: 0.372700\n",
            "Train Epoch: 4 [33280/50000 (66%)]\tLoss: 0.444716\n",
            "Train Epoch: 4 [34560/50000 (69%)]\tLoss: 0.326997\n",
            "Train Epoch: 4 [35840/50000 (72%)]\tLoss: 0.345672\n",
            "Train Epoch: 4 [37120/50000 (74%)]\tLoss: 0.348853\n",
            "Train Epoch: 4 [38400/50000 (77%)]\tLoss: 0.320960\n",
            "Train Epoch: 4 [39680/50000 (79%)]\tLoss: 0.455256\n",
            "Train Epoch: 4 [40960/50000 (82%)]\tLoss: 0.439918\n",
            "Train Epoch: 4 [42240/50000 (84%)]\tLoss: 0.613625\n",
            "Train Epoch: 4 [43520/50000 (87%)]\tLoss: 0.452886\n",
            "Train Epoch: 4 [44800/50000 (90%)]\tLoss: 0.357190\n",
            "Train Epoch: 4 [46080/50000 (92%)]\tLoss: 0.342359\n",
            "Train Epoch: 4 [47360/50000 (95%)]\tLoss: 0.337103\n",
            "Train Epoch: 4 [48640/50000 (97%)]\tLoss: 0.365222\n",
            "Train Epoch: 4 [31200/50000 (100%)]\tLoss: 0.322403\n",
            "\n",
            "Test set: Avg. loss: 0.1722, Accuracy: 9492/10000 (94.92%)\n",
            "\n",
            "Train Epoch: 5 [0/50000 (0%)]\tLoss: 0.321307\n",
            "Train Epoch: 5 [1280/50000 (3%)]\tLoss: 0.377450\n",
            "Train Epoch: 5 [2560/50000 (5%)]\tLoss: 0.306543\n",
            "Train Epoch: 5 [3840/50000 (8%)]\tLoss: 0.314597\n",
            "Train Epoch: 5 [5120/50000 (10%)]\tLoss: 0.360245\n",
            "Train Epoch: 5 [6400/50000 (13%)]\tLoss: 0.343340\n",
            "Train Epoch: 5 [7680/50000 (15%)]\tLoss: 0.223152\n",
            "Train Epoch: 5 [8960/50000 (18%)]\tLoss: 0.482665\n",
            "Train Epoch: 5 [10240/50000 (20%)]\tLoss: 0.401107\n",
            "Train Epoch: 5 [11520/50000 (23%)]\tLoss: 0.507694\n",
            "Train Epoch: 5 [12800/50000 (26%)]\tLoss: 0.364275\n",
            "Train Epoch: 5 [14080/50000 (28%)]\tLoss: 0.511542\n",
            "Train Epoch: 5 [15360/50000 (31%)]\tLoss: 0.430829\n",
            "Train Epoch: 5 [16640/50000 (33%)]\tLoss: 0.361719\n",
            "Train Epoch: 5 [17920/50000 (36%)]\tLoss: 0.447958\n",
            "Train Epoch: 5 [19200/50000 (38%)]\tLoss: 0.319198\n",
            "Train Epoch: 5 [20480/50000 (41%)]\tLoss: 0.325839\n",
            "Train Epoch: 5 [21760/50000 (43%)]\tLoss: 0.316336\n",
            "Train Epoch: 5 [23040/50000 (46%)]\tLoss: 0.318479\n",
            "Train Epoch: 5 [24320/50000 (49%)]\tLoss: 0.338696\n",
            "Train Epoch: 5 [25600/50000 (51%)]\tLoss: 0.338802\n",
            "Train Epoch: 5 [26880/50000 (54%)]\tLoss: 0.361178\n",
            "Train Epoch: 5 [28160/50000 (56%)]\tLoss: 0.269889\n",
            "Train Epoch: 5 [29440/50000 (59%)]\tLoss: 0.321631\n",
            "Train Epoch: 5 [30720/50000 (61%)]\tLoss: 0.327340\n",
            "Train Epoch: 5 [32000/50000 (64%)]\tLoss: 0.425132\n",
            "Train Epoch: 5 [33280/50000 (66%)]\tLoss: 0.306477\n",
            "Train Epoch: 5 [34560/50000 (69%)]\tLoss: 0.279611\n",
            "Train Epoch: 5 [35840/50000 (72%)]\tLoss: 0.241352\n",
            "Train Epoch: 5 [37120/50000 (74%)]\tLoss: 0.318267\n",
            "Train Epoch: 5 [38400/50000 (77%)]\tLoss: 0.283673\n",
            "Train Epoch: 5 [39680/50000 (79%)]\tLoss: 0.298148\n",
            "Train Epoch: 5 [40960/50000 (82%)]\tLoss: 0.455942\n",
            "Train Epoch: 5 [42240/50000 (84%)]\tLoss: 0.347523\n",
            "Train Epoch: 5 [43520/50000 (87%)]\tLoss: 0.445593\n",
            "Train Epoch: 5 [44800/50000 (90%)]\tLoss: 0.266366\n",
            "Train Epoch: 5 [46080/50000 (92%)]\tLoss: 0.266639\n",
            "Train Epoch: 5 [47360/50000 (95%)]\tLoss: 0.208396\n",
            "Train Epoch: 5 [48640/50000 (97%)]\tLoss: 0.339777\n",
            "Train Epoch: 5 [31200/50000 (100%)]\tLoss: 0.238046\n",
            "\n",
            "Test set: Avg. loss: 0.1490, Accuracy: 9550/10000 (95.50%)\n",
            "\n",
            "Train Epoch: 6 [0/50000 (0%)]\tLoss: 0.272468\n",
            "Train Epoch: 6 [1280/50000 (3%)]\tLoss: 0.319723\n",
            "Train Epoch: 6 [2560/50000 (5%)]\tLoss: 0.307597\n",
            "Train Epoch: 6 [3840/50000 (8%)]\tLoss: 0.291774\n",
            "Train Epoch: 6 [5120/50000 (10%)]\tLoss: 0.337571\n",
            "Train Epoch: 6 [6400/50000 (13%)]\tLoss: 0.363287\n",
            "Train Epoch: 6 [7680/50000 (15%)]\tLoss: 0.437720\n",
            "Train Epoch: 6 [8960/50000 (18%)]\tLoss: 0.346754\n",
            "Train Epoch: 6 [10240/50000 (20%)]\tLoss: 0.243445\n",
            "Train Epoch: 6 [11520/50000 (23%)]\tLoss: 0.272620\n",
            "Train Epoch: 6 [12800/50000 (26%)]\tLoss: 0.306390\n",
            "Train Epoch: 6 [14080/50000 (28%)]\tLoss: 0.253134\n",
            "Train Epoch: 6 [15360/50000 (31%)]\tLoss: 0.375862\n",
            "Train Epoch: 6 [16640/50000 (33%)]\tLoss: 0.220384\n",
            "Train Epoch: 6 [17920/50000 (36%)]\tLoss: 0.235686\n",
            "Train Epoch: 6 [19200/50000 (38%)]\tLoss: 0.214567\n",
            "Train Epoch: 6 [20480/50000 (41%)]\tLoss: 0.271919\n",
            "Train Epoch: 6 [21760/50000 (43%)]\tLoss: 0.321418\n",
            "Train Epoch: 6 [23040/50000 (46%)]\tLoss: 0.210536\n",
            "Train Epoch: 6 [24320/50000 (49%)]\tLoss: 0.283704\n",
            "Train Epoch: 6 [25600/50000 (51%)]\tLoss: 0.377859\n",
            "Train Epoch: 6 [26880/50000 (54%)]\tLoss: 0.381446\n",
            "Train Epoch: 6 [28160/50000 (56%)]\tLoss: 0.267244\n",
            "Train Epoch: 6 [29440/50000 (59%)]\tLoss: 0.349732\n",
            "Train Epoch: 6 [30720/50000 (61%)]\tLoss: 0.329697\n",
            "Train Epoch: 6 [32000/50000 (64%)]\tLoss: 0.352842\n",
            "Train Epoch: 6 [33280/50000 (66%)]\tLoss: 0.293674\n",
            "Train Epoch: 6 [34560/50000 (69%)]\tLoss: 0.250657\n",
            "Train Epoch: 6 [35840/50000 (72%)]\tLoss: 0.383832\n",
            "Train Epoch: 6 [37120/50000 (74%)]\tLoss: 0.285070\n",
            "Train Epoch: 6 [38400/50000 (77%)]\tLoss: 0.270471\n",
            "Train Epoch: 6 [39680/50000 (79%)]\tLoss: 0.185111\n",
            "Train Epoch: 6 [40960/50000 (82%)]\tLoss: 0.392024\n",
            "Train Epoch: 6 [42240/50000 (84%)]\tLoss: 0.354474\n",
            "Train Epoch: 6 [43520/50000 (87%)]\tLoss: 0.264123\n",
            "Train Epoch: 6 [44800/50000 (90%)]\tLoss: 0.385181\n",
            "Train Epoch: 6 [46080/50000 (92%)]\tLoss: 0.234019\n",
            "Train Epoch: 6 [47360/50000 (95%)]\tLoss: 0.159511\n",
            "Train Epoch: 6 [48640/50000 (97%)]\tLoss: 0.229419\n",
            "Train Epoch: 6 [31200/50000 (100%)]\tLoss: 0.441434\n",
            "\n",
            "Test set: Avg. loss: 0.1362, Accuracy: 9588/10000 (95.88%)\n",
            "\n",
            "Train Epoch: 7 [0/50000 (0%)]\tLoss: 0.220801\n",
            "Train Epoch: 7 [1280/50000 (3%)]\tLoss: 0.468043\n",
            "Train Epoch: 7 [2560/50000 (5%)]\tLoss: 0.288789\n",
            "Train Epoch: 7 [3840/50000 (8%)]\tLoss: 0.360077\n",
            "Train Epoch: 7 [5120/50000 (10%)]\tLoss: 0.242336\n",
            "Train Epoch: 7 [6400/50000 (13%)]\tLoss: 0.268032\n",
            "Train Epoch: 7 [7680/50000 (15%)]\tLoss: 0.242173\n",
            "Train Epoch: 7 [8960/50000 (18%)]\tLoss: 0.496700\n",
            "Train Epoch: 7 [10240/50000 (20%)]\tLoss: 0.257452\n",
            "Train Epoch: 7 [11520/50000 (23%)]\tLoss: 0.247375\n",
            "Train Epoch: 7 [12800/50000 (26%)]\tLoss: 0.270328\n",
            "Train Epoch: 7 [14080/50000 (28%)]\tLoss: 0.368235\n",
            "Train Epoch: 7 [15360/50000 (31%)]\tLoss: 0.277372\n",
            "Train Epoch: 7 [16640/50000 (33%)]\tLoss: 0.341534\n",
            "Train Epoch: 7 [17920/50000 (36%)]\tLoss: 0.265883\n",
            "Train Epoch: 7 [19200/50000 (38%)]\tLoss: 0.306361\n",
            "Train Epoch: 7 [20480/50000 (41%)]\tLoss: 0.270559\n",
            "Train Epoch: 7 [21760/50000 (43%)]\tLoss: 0.317996\n",
            "Train Epoch: 7 [23040/50000 (46%)]\tLoss: 0.296063\n",
            "Train Epoch: 7 [24320/50000 (49%)]\tLoss: 0.294237\n",
            "Train Epoch: 7 [25600/50000 (51%)]\tLoss: 0.235015\n",
            "Train Epoch: 7 [26880/50000 (54%)]\tLoss: 0.249919\n",
            "Train Epoch: 7 [28160/50000 (56%)]\tLoss: 0.345673\n",
            "Train Epoch: 7 [29440/50000 (59%)]\tLoss: 0.294708\n",
            "Train Epoch: 7 [30720/50000 (61%)]\tLoss: 0.237258\n",
            "Train Epoch: 7 [32000/50000 (64%)]\tLoss: 0.188333\n",
            "Train Epoch: 7 [33280/50000 (66%)]\tLoss: 0.229656\n",
            "Train Epoch: 7 [34560/50000 (69%)]\tLoss: 0.205736\n",
            "Train Epoch: 7 [35840/50000 (72%)]\tLoss: 0.269223\n",
            "Train Epoch: 7 [37120/50000 (74%)]\tLoss: 0.272306\n",
            "Train Epoch: 7 [38400/50000 (77%)]\tLoss: 0.386792\n",
            "Train Epoch: 7 [39680/50000 (79%)]\tLoss: 0.189489\n",
            "Train Epoch: 7 [40960/50000 (82%)]\tLoss: 0.292216\n",
            "Train Epoch: 7 [42240/50000 (84%)]\tLoss: 0.259281\n",
            "Train Epoch: 7 [43520/50000 (87%)]\tLoss: 0.347799\n",
            "Train Epoch: 7 [44800/50000 (90%)]\tLoss: 0.333311\n",
            "Train Epoch: 7 [46080/50000 (92%)]\tLoss: 0.225450\n",
            "Train Epoch: 7 [47360/50000 (95%)]\tLoss: 0.310677\n",
            "Train Epoch: 7 [48640/50000 (97%)]\tLoss: 0.155710\n",
            "Train Epoch: 7 [31200/50000 (100%)]\tLoss: 0.342965\n",
            "\n",
            "Test set: Avg. loss: 0.1237, Accuracy: 9616/10000 (96.16%)\n",
            "\n",
            "Train Epoch: 8 [0/50000 (0%)]\tLoss: 0.260389\n",
            "Train Epoch: 8 [1280/50000 (3%)]\tLoss: 0.235498\n",
            "Train Epoch: 8 [2560/50000 (5%)]\tLoss: 0.293671\n",
            "Train Epoch: 8 [3840/50000 (8%)]\tLoss: 0.238247\n",
            "Train Epoch: 8 [5120/50000 (10%)]\tLoss: 0.436526\n",
            "Train Epoch: 8 [6400/50000 (13%)]\tLoss: 0.400478\n",
            "Train Epoch: 8 [7680/50000 (15%)]\tLoss: 0.276140\n",
            "Train Epoch: 8 [8960/50000 (18%)]\tLoss: 0.259645\n",
            "Train Epoch: 8 [10240/50000 (20%)]\tLoss: 0.287425\n",
            "Train Epoch: 8 [11520/50000 (23%)]\tLoss: 0.219599\n",
            "Train Epoch: 8 [12800/50000 (26%)]\tLoss: 0.361839\n",
            "Train Epoch: 8 [14080/50000 (28%)]\tLoss: 0.289431\n",
            "Train Epoch: 8 [15360/50000 (31%)]\tLoss: 0.298264\n",
            "Train Epoch: 8 [16640/50000 (33%)]\tLoss: 0.299692\n",
            "Train Epoch: 8 [17920/50000 (36%)]\tLoss: 0.195963\n",
            "Train Epoch: 8 [19200/50000 (38%)]\tLoss: 0.465093\n",
            "Train Epoch: 8 [20480/50000 (41%)]\tLoss: 0.464134\n",
            "Train Epoch: 8 [21760/50000 (43%)]\tLoss: 0.137265\n",
            "Train Epoch: 8 [23040/50000 (46%)]\tLoss: 0.352684\n",
            "Train Epoch: 8 [24320/50000 (49%)]\tLoss: 0.280526\n",
            "Train Epoch: 8 [25600/50000 (51%)]\tLoss: 0.279517\n",
            "Train Epoch: 8 [26880/50000 (54%)]\tLoss: 0.210894\n",
            "Train Epoch: 8 [28160/50000 (56%)]\tLoss: 0.334897\n",
            "Train Epoch: 8 [29440/50000 (59%)]\tLoss: 0.380070\n",
            "Train Epoch: 8 [30720/50000 (61%)]\tLoss: 0.215996\n",
            "Train Epoch: 8 [32000/50000 (64%)]\tLoss: 0.205136\n",
            "Train Epoch: 8 [33280/50000 (66%)]\tLoss: 0.299871\n",
            "Train Epoch: 8 [34560/50000 (69%)]\tLoss: 0.422372\n",
            "Train Epoch: 8 [35840/50000 (72%)]\tLoss: 0.241166\n",
            "Train Epoch: 8 [37120/50000 (74%)]\tLoss: 0.217131\n",
            "Train Epoch: 8 [38400/50000 (77%)]\tLoss: 0.184928\n",
            "Train Epoch: 8 [39680/50000 (79%)]\tLoss: 0.292044\n",
            "Train Epoch: 8 [40960/50000 (82%)]\tLoss: 0.356258\n",
            "Train Epoch: 8 [42240/50000 (84%)]\tLoss: 0.216872\n",
            "Train Epoch: 8 [43520/50000 (87%)]\tLoss: 0.194584\n",
            "Train Epoch: 8 [44800/50000 (90%)]\tLoss: 0.234679\n",
            "Train Epoch: 8 [46080/50000 (92%)]\tLoss: 0.239218\n",
            "Train Epoch: 8 [47360/50000 (95%)]\tLoss: 0.364734\n",
            "Train Epoch: 8 [48640/50000 (97%)]\tLoss: 0.206019\n",
            "Train Epoch: 8 [31200/50000 (100%)]\tLoss: 0.154457\n",
            "\n",
            "Test set: Avg. loss: 0.1160, Accuracy: 9650/10000 (96.50%)\n",
            "\n",
            "Train Epoch: 9 [0/50000 (0%)]\tLoss: 0.141361\n",
            "Train Epoch: 9 [1280/50000 (3%)]\tLoss: 0.357910\n",
            "Train Epoch: 9 [2560/50000 (5%)]\tLoss: 0.244991\n",
            "Train Epoch: 9 [3840/50000 (8%)]\tLoss: 0.350291\n",
            "Train Epoch: 9 [5120/50000 (10%)]\tLoss: 0.283841\n",
            "Train Epoch: 9 [6400/50000 (13%)]\tLoss: 0.160191\n",
            "Train Epoch: 9 [7680/50000 (15%)]\tLoss: 0.354912\n",
            "Train Epoch: 9 [8960/50000 (18%)]\tLoss: 0.336352\n",
            "Train Epoch: 9 [10240/50000 (20%)]\tLoss: 0.198663\n",
            "Train Epoch: 9 [11520/50000 (23%)]\tLoss: 0.196514\n",
            "Train Epoch: 9 [12800/50000 (26%)]\tLoss: 0.256853\n",
            "Train Epoch: 9 [14080/50000 (28%)]\tLoss: 0.199667\n",
            "Train Epoch: 9 [15360/50000 (31%)]\tLoss: 0.264505\n",
            "Train Epoch: 9 [16640/50000 (33%)]\tLoss: 0.220144\n",
            "Train Epoch: 9 [17920/50000 (36%)]\tLoss: 0.429104\n",
            "Train Epoch: 9 [19200/50000 (38%)]\tLoss: 0.296958\n",
            "Train Epoch: 9 [20480/50000 (41%)]\tLoss: 0.153208\n",
            "Train Epoch: 9 [21760/50000 (43%)]\tLoss: 0.361183\n",
            "Train Epoch: 9 [23040/50000 (46%)]\tLoss: 0.155129\n",
            "Train Epoch: 9 [24320/50000 (49%)]\tLoss: 0.170962\n",
            "Train Epoch: 9 [25600/50000 (51%)]\tLoss: 0.358175\n",
            "Train Epoch: 9 [26880/50000 (54%)]\tLoss: 0.310142\n",
            "Train Epoch: 9 [28160/50000 (56%)]\tLoss: 0.360105\n",
            "Train Epoch: 9 [29440/50000 (59%)]\tLoss: 0.178171\n",
            "Train Epoch: 9 [30720/50000 (61%)]\tLoss: 0.278929\n",
            "Train Epoch: 9 [32000/50000 (64%)]\tLoss: 0.241768\n",
            "Train Epoch: 9 [33280/50000 (66%)]\tLoss: 0.197150\n",
            "Train Epoch: 9 [34560/50000 (69%)]\tLoss: 0.278476\n",
            "Train Epoch: 9 [35840/50000 (72%)]\tLoss: 0.302991\n",
            "Train Epoch: 9 [37120/50000 (74%)]\tLoss: 0.329888\n",
            "Train Epoch: 9 [38400/50000 (77%)]\tLoss: 0.230676\n",
            "Train Epoch: 9 [39680/50000 (79%)]\tLoss: 0.311886\n",
            "Train Epoch: 9 [40960/50000 (82%)]\tLoss: 0.234003\n",
            "Train Epoch: 9 [42240/50000 (84%)]\tLoss: 0.316647\n",
            "Train Epoch: 9 [43520/50000 (87%)]\tLoss: 0.229285\n",
            "Train Epoch: 9 [44800/50000 (90%)]\tLoss: 0.304721\n",
            "Train Epoch: 9 [46080/50000 (92%)]\tLoss: 0.369891\n",
            "Train Epoch: 9 [47360/50000 (95%)]\tLoss: 0.287665\n",
            "Train Epoch: 9 [48640/50000 (97%)]\tLoss: 0.124869\n",
            "Train Epoch: 9 [31200/50000 (100%)]\tLoss: 0.344891\n",
            "\n",
            "Test set: Avg. loss: 0.1081, Accuracy: 9671/10000 (96.71%)\n",
            "\n",
            "Train Epoch: 10 [0/50000 (0%)]\tLoss: 0.185465\n",
            "Train Epoch: 10 [1280/50000 (3%)]\tLoss: 0.119330\n",
            "Train Epoch: 10 [2560/50000 (5%)]\tLoss: 0.163740\n",
            "Train Epoch: 10 [3840/50000 (8%)]\tLoss: 0.090028\n",
            "Train Epoch: 10 [5120/50000 (10%)]\tLoss: 0.188295\n",
            "Train Epoch: 10 [6400/50000 (13%)]\tLoss: 0.251627\n",
            "Train Epoch: 10 [7680/50000 (15%)]\tLoss: 0.288009\n",
            "Train Epoch: 10 [8960/50000 (18%)]\tLoss: 0.314532\n",
            "Train Epoch: 10 [10240/50000 (20%)]\tLoss: 0.276323\n",
            "Train Epoch: 10 [11520/50000 (23%)]\tLoss: 0.261258\n",
            "Train Epoch: 10 [12800/50000 (26%)]\tLoss: 0.223161\n",
            "Train Epoch: 10 [14080/50000 (28%)]\tLoss: 0.264896\n",
            "Train Epoch: 10 [15360/50000 (31%)]\tLoss: 0.383724\n",
            "Train Epoch: 10 [16640/50000 (33%)]\tLoss: 0.234245\n",
            "Train Epoch: 10 [17920/50000 (36%)]\tLoss: 0.164252\n",
            "Train Epoch: 10 [19200/50000 (38%)]\tLoss: 0.273973\n",
            "Train Epoch: 10 [20480/50000 (41%)]\tLoss: 0.220323\n",
            "Train Epoch: 10 [21760/50000 (43%)]\tLoss: 0.313695\n",
            "Train Epoch: 10 [23040/50000 (46%)]\tLoss: 0.222863\n",
            "Train Epoch: 10 [24320/50000 (49%)]\tLoss: 0.218286\n",
            "Train Epoch: 10 [25600/50000 (51%)]\tLoss: 0.270608\n",
            "Train Epoch: 10 [26880/50000 (54%)]\tLoss: 0.202937\n",
            "Train Epoch: 10 [28160/50000 (56%)]\tLoss: 0.187744\n",
            "Train Epoch: 10 [29440/50000 (59%)]\tLoss: 0.237172\n",
            "Train Epoch: 10 [30720/50000 (61%)]\tLoss: 0.321445\n",
            "Train Epoch: 10 [32000/50000 (64%)]\tLoss: 0.209220\n",
            "Train Epoch: 10 [33280/50000 (66%)]\tLoss: 0.130932\n",
            "Train Epoch: 10 [34560/50000 (69%)]\tLoss: 0.148613\n",
            "Train Epoch: 10 [35840/50000 (72%)]\tLoss: 0.193399\n",
            "Train Epoch: 10 [37120/50000 (74%)]\tLoss: 0.183044\n",
            "Train Epoch: 10 [38400/50000 (77%)]\tLoss: 0.228700\n",
            "Train Epoch: 10 [39680/50000 (79%)]\tLoss: 0.234478\n",
            "Train Epoch: 10 [40960/50000 (82%)]\tLoss: 0.171002\n",
            "Train Epoch: 10 [42240/50000 (84%)]\tLoss: 0.250247\n",
            "Train Epoch: 10 [43520/50000 (87%)]\tLoss: 0.184354\n",
            "Train Epoch: 10 [44800/50000 (90%)]\tLoss: 0.221320\n",
            "Train Epoch: 10 [46080/50000 (92%)]\tLoss: 0.288260\n",
            "Train Epoch: 10 [47360/50000 (95%)]\tLoss: 0.307072\n",
            "Train Epoch: 10 [48640/50000 (97%)]\tLoss: 0.260684\n",
            "Train Epoch: 10 [31200/50000 (100%)]\tLoss: 0.188693\n",
            "\n",
            "Test set: Avg. loss: 0.1026, Accuracy: 9685/10000 (96.85%)\n",
            "\n"
          ],
          "name": "stdout"
        }
      ]
    },
    {
      "cell_type": "markdown",
      "metadata": {
        "id": "qsVe0FapMoLB"
      },
      "source": [
        "The loss vs number of examples trained can be seen in the below graph."
      ]
    },
    {
      "cell_type": "code",
      "metadata": {
        "colab": {
          "base_uri": "https://localhost:8080/",
          "height": 541
        },
        "id": "5qmSR34mwdL3",
        "outputId": "099fe522-0a0a-45aa-e590-26f9b0b04ea6"
      },
      "source": [
        "fig = plt.figure()\n",
        "plt.plot(train_counter, train_losses, color='blue')\n",
        "plt.scatter(test_counter, test_losses, color='red')\n",
        "plt.legend(['Train Loss', 'Test Loss'], loc='upper right')\n",
        "plt.xlabel('Number of examples')\n",
        "plt.ylabel('Loss')\n",
        "fig"
      ],
      "execution_count": null,
      "outputs": [
        {
          "output_type": "execute_result",
          "data": {
            "image/png": "[encoded data removed]",
            "text/plain": [
              "<Figure size 432x288 with 1 Axes>"
            ]
          },
          "metadata": {
            "tags": []
          },
          "execution_count": 19
        },
        {
          "output_type": "display_data",
          "data": {
            "image/png": "[encoded data removed]",
            "text/plain": [
              "<Figure size 432x288 with 1 Axes>"
            ]
          },
          "metadata": {
            "tags": [],
            "needs_background": "light"
          }
        }
      ]
    },
    {
      "cell_type": "code",
      "metadata": {
        "colab": {
          "base_uri": "https://localhost:8080/"
        },
        "id": "18-KFqadwgYJ",
        "outputId": "9308cc3d-ff6d-4856-b21f-2c2e922f001a"
      },
      "source": [
        "with torch.no_grad():\n",
        "  output = network(example_data)"
      ],
      "execution_count": null,
      "outputs": [
        {
          "output_type": "stream",
          "text": [
            "/usr/local/lib/python3.7/dist-packages/ipykernel_launcher.py:18: UserWarning: Implicit dimension choice for log_softmax has been deprecated. Change the call to include dim=X as an argument.\n"
          ],
          "name": "stderr"
        }
      ]
    },
    {
      "cell_type": "markdown",
      "metadata": {
        "id": "9dPsJNPtK9lX"
      },
      "source": [
        "Finally, we use few matplotlib functions to display random members of the data and then we use our model to predict the number. As it is visible, we obtain pretty good results."
      ]
    },
    {
      "cell_type": "code",
      "metadata": {
        "id": "V9aS3ybd9_K_",
        "colab": {
          "base_uri": "https://localhost:8080/",
          "height": 551
        },
        "outputId": "cd648614-831d-4517-9a8d-06940dc67aa0"
      },
      "source": [
        "import random\n",
        "fig = plt.figure()\n",
        "for i in range(6):\n",
        "  j = random.randint(0,255)\n",
        "  plt.subplot(2,3,i+1)\n",
        "  plt.tight_layout()\n",
        "  plt.imshow(example_data[j][0].cpu(), cmap='gray', interpolation='none')\n",
        "  plt.title(\"Prediction: {}\".format(\n",
        "    output.data.max(1, keepdim=True)[1][j].item()))\n",
        "  plt.xticks([])\n",
        "  plt.yticks([])\n",
        "fig"
      ],
      "execution_count": null,
      "outputs": [
        {
          "output_type": "execute_result",
          "data": {
            "image/png": "[encoded data removed]",
            "text/plain": [
              "<Figure size 432x288 with 6 Axes>"
            ]
          },
          "metadata": {
            "tags": []
          },
          "execution_count": 22
        },
        {
          "output_type": "display_data",
          "data": {
            "image/png": "[encoded data removed]",
            "text/plain": [
              "<Figure size 432x288 with 6 Axes>"
            ]
          },
          "metadata": {
            "tags": []
          }
        }
      ]
    }
  ]
}